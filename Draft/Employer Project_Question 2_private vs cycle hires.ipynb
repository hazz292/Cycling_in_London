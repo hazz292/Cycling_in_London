{
 "cells": [
  {
   "cell_type": "markdown",
   "id": "50fa8d8e",
   "metadata": {},
   "source": [
    "# Do people have a preference for private cycles vs cycle hires?"
   ]
  },
  {
   "cell_type": "markdown",
   "id": "d6bee81f",
   "metadata": {},
   "source": [
    "## Prepare workstation and import files"
   ]
  },
  {
   "cell_type": "code",
   "execution_count": 1,
   "id": "1ab1fa74",
   "metadata": {},
   "outputs": [],
   "source": [
    "# Import libraries\n",
    "import numpy as np\n",
    "import pandas as pd\n",
    "import matplotlib.pyplot as plt\n",
    "import seaborn as sns"
   ]
  },
  {
   "cell_type": "code",
   "execution_count": 2,
   "id": "43d3e045",
   "metadata": {},
   "outputs": [
    {
     "name": "stderr",
     "output_type": "stream",
     "text": [
      "C:\\Users\\mhbil\\anaconda3\\lib\\site-packages\\IPython\\core\\interactiveshell.py:3444: DtypeWarning: Columns (0,1,2,3,4,5,6,7,8) have mixed types.Specify dtype option on import or set low_memory=False.\n",
      "  exec(code_obj, self.user_global_ns, self.user_ns)\n",
      "C:\\Users\\mhbil\\anaconda3\\lib\\site-packages\\IPython\\core\\interactiveshell.py:3444: DtypeWarning: Columns (1,2,3,4,5,6,7) have mixed types.Specify dtype option on import or set low_memory=False.\n",
      "  exec(code_obj, self.user_global_ns, self.user_ns)\n"
     ]
    }
   ],
   "source": [
    "# Import data files\n",
    "central_london = pd.read_csv(\"Central London.csv\")\n",
    "inner_london = pd.read_csv(\"Inner London.csv\")"
   ]
  },
  {
   "cell_type": "markdown",
   "id": "fcd4f24b",
   "metadata": {},
   "source": [
    "## Explore raw data"
   ]
  },
  {
   "cell_type": "markdown",
   "id": "079de512",
   "metadata": {},
   "source": [
    "### Central London"
   ]
  },
  {
   "cell_type": "code",
   "execution_count": 3,
   "id": "571f49c7",
   "metadata": {},
   "outputs": [
    {
     "name": "stdout",
     "output_type": "stream",
     "text": [
      "(1048366, 17)\n"
     ]
    }
   ],
   "source": [
    "print(central_london.shape)"
   ]
  },
  {
   "cell_type": "code",
   "execution_count": 4,
   "id": "cf700ca4",
   "metadata": {},
   "outputs": [
    {
     "name": "stdout",
     "output_type": "stream",
     "text": [
      "<class 'pandas.core.frame.DataFrame'>\n",
      "RangeIndex: 1048366 entries, 0 to 1048365\n",
      "Data columns (total 17 columns):\n",
      " #   Column                          Non-Null Count   Dtype  \n",
      "---  ------                          --------------   -----  \n",
      " 0   Survey wave (calendar quarter)  758163 non-null  object \n",
      " 1   Equivalent financial quarter    758163 non-null  object \n",
      " 2   Site ID                         758163 non-null  object \n",
      " 3   Location                        758163 non-null  object \n",
      " 4   Survey date                     748007 non-null  object \n",
      " 5   Weather                         746329 non-null  object \n",
      " 6   Time                            758163 non-null  object \n",
      " 7   Period                          758163 non-null  object \n",
      " 8   Direction                       758163 non-null  object \n",
      " 9   Start hour                      758163 non-null  float64\n",
      " 10  Start minute                    758163 non-null  float64\n",
      " 11  Number of private cycles        758099 non-null  float64\n",
      " 12  Number of cycle hire bikes      758099 non-null  float64\n",
      " 13  Total cycles                    758163 non-null  float64\n",
      " 14  Unnamed: 14                     0 non-null       float64\n",
      " 15  Unnamed: 15                     0 non-null       float64\n",
      " 16  Unnamed: 16                     0 non-null       float64\n",
      "dtypes: float64(8), object(9)\n",
      "memory usage: 136.0+ MB\n",
      "None\n"
     ]
    }
   ],
   "source": [
    "print(central_london.info())"
   ]
  },
  {
   "cell_type": "code",
   "execution_count": 5,
   "id": "cff37508",
   "metadata": {},
   "outputs": [
    {
     "name": "stdout",
     "output_type": "stream",
     "text": [
      "  Survey wave (calendar quarter) Equivalent financial quarter   Site ID  \\\n",
      "0        2014 Q1 (January-March)                   2013-14 Q4  CENCY001   \n",
      "1        2014 Q1 (January-March)                   2013-14 Q4  CENCY001   \n",
      "2        2014 Q1 (January-March)                   2013-14 Q4  CENCY001   \n",
      "3        2014 Q1 (January-March)                   2013-14 Q4  CENCY001   \n",
      "4        2014 Q1 (January-March)                   2013-14 Q4  CENCY001   \n",
      "\n",
      "                             Location    Survey date Weather         Time  \\\n",
      "0  Millbank (south of Thorney Street)  ven, 24/01/14     Dry  0600 - 0615   \n",
      "1  Millbank (south of Thorney Street)  ven, 24/01/14     Dry  0615 - 0630   \n",
      "2  Millbank (south of Thorney Street)  ven, 24/01/14     Dry  0630 - 0645   \n",
      "3  Millbank (south of Thorney Street)  ven, 24/01/14     Dry  0645 - 0700   \n",
      "4  Millbank (south of Thorney Street)  ven, 24/01/14     Dry  0700 - 0715   \n",
      "\n",
      "                        Period   Direction  Start hour  Start minute  \\\n",
      "0  Early Morning (06:00-07:00)  Northbound         6.0           0.0   \n",
      "1  Early Morning (06:00-07:00)  Northbound         6.0          15.0   \n",
      "2  Early Morning (06:00-07:00)  Northbound         6.0          30.0   \n",
      "3  Early Morning (06:00-07:00)  Northbound         6.0          45.0   \n",
      "4        AM peak (07:00-10:00)  Northbound         7.0           0.0   \n",
      "\n",
      "   Number of private cycles  Number of cycle hire bikes  Total cycles  \\\n",
      "0                       0.0                         0.0           0.0   \n",
      "1                      15.0                         0.0          15.0   \n",
      "2                      35.0                         0.0          35.0   \n",
      "3                      59.0                         2.0          61.0   \n",
      "4                      73.0                         0.0          73.0   \n",
      "\n",
      "   Unnamed: 14  Unnamed: 15  Unnamed: 16  \n",
      "0          NaN          NaN          NaN  \n",
      "1          NaN          NaN          NaN  \n",
      "2          NaN          NaN          NaN  \n",
      "3          NaN          NaN          NaN  \n",
      "4          NaN          NaN          NaN  \n"
     ]
    }
   ],
   "source": [
    "print(central_london.head())"
   ]
  },
  {
   "cell_type": "code",
   "execution_count": 6,
   "id": "206d59d1",
   "metadata": {},
   "outputs": [
    {
     "name": "stdout",
     "output_type": "stream",
     "text": [
      "          Start hour   Start minute  Number of private cycles  \\\n",
      "count  758163.000000  758163.000000             758099.000000   \n",
      "mean       13.499259      22.499951                 14.824374   \n",
      "std         4.609643      16.770530                 26.255858   \n",
      "min         6.000000       0.000000                  0.000000   \n",
      "25%         9.000000       0.000000                  2.000000   \n",
      "50%        13.000000      15.000000                  7.000000   \n",
      "75%        17.000000      30.000000                 16.000000   \n",
      "max        21.000000      45.000000               1177.000000   \n",
      "\n",
      "       Number of cycle hire bikes   Total cycles  Unnamed: 14  Unnamed: 15  \\\n",
      "count               758099.000000  758163.000000          0.0          0.0   \n",
      "mean                     1.830072      16.653040          NaN          NaN   \n",
      "std                      3.321560      28.675116          NaN          NaN   \n",
      "min                      0.000000       0.000000          NaN          NaN   \n",
      "25%                      0.000000       3.000000          NaN          NaN   \n",
      "50%                      1.000000       8.000000          NaN          NaN   \n",
      "75%                      2.000000      18.000000          NaN          NaN   \n",
      "max                    108.000000    1200.000000          NaN          NaN   \n",
      "\n",
      "       Unnamed: 16  \n",
      "count          0.0  \n",
      "mean           NaN  \n",
      "std            NaN  \n",
      "min            NaN  \n",
      "25%            NaN  \n",
      "50%            NaN  \n",
      "75%            NaN  \n",
      "max            NaN  \n"
     ]
    }
   ],
   "source": [
    "print(central_london.describe())"
   ]
  },
  {
   "cell_type": "markdown",
   "id": "1bd59144",
   "metadata": {},
   "source": [
    "Observations: Central London contains info on the date ('Survey wave (calendar quarter)', 'Equivalent financial quarter', 'Survey Date'), time ('Time', 'Period', 'Start hour', 'Start minute'), location ('Site ID', 'Location'), weather ('Weather'), direction of travel ('Direction'), and number of cycles ('Number of private cycles', 'Number of cycle hire bikes', 'Total cycles'). 'Unnamed: 14' , 'Unnamed: 15', and 'Unnamed: 16' can be removed since they contain empty values. There are missing values for 'Survey date,' 'Weather,' 'Number of private cycles,' and 'Number of cycle hire bikes.'"
   ]
  },
  {
   "cell_type": "markdown",
   "id": "06451158",
   "metadata": {},
   "source": [
    "### Inner London"
   ]
  },
  {
   "cell_type": "code",
   "execution_count": 7,
   "id": "6b4ea5e7",
   "metadata": {},
   "outputs": [
    {
     "name": "stdout",
     "output_type": "stream",
     "text": [
      "(615168, 13)\n"
     ]
    }
   ],
   "source": [
    "print(inner_london.shape)"
   ]
  },
  {
   "cell_type": "code",
   "execution_count": 8,
   "id": "62c10c7b",
   "metadata": {},
   "outputs": [
    {
     "name": "stdout",
     "output_type": "stream",
     "text": [
      "<class 'pandas.core.frame.DataFrame'>\n",
      "RangeIndex: 615168 entries, 0 to 615167\n",
      "Data columns (total 13 columns):\n",
      " #   Column                      Non-Null Count   Dtype  \n",
      "---  ------                      --------------   -----  \n",
      " 0   Survey wave (year)          523776 non-null  float64\n",
      " 1   Site ID                     523776 non-null  object \n",
      " 2   Location                    523776 non-null  object \n",
      " 3   Survey date                 521024 non-null  object \n",
      " 4   Weather                     519102 non-null  object \n",
      " 5   Time                        523770 non-null  object \n",
      " 6   Period                      523770 non-null  object \n",
      " 7   Direction                   523776 non-null  object \n",
      " 8   Start hour                  523770 non-null  float64\n",
      " 9   Start minute                523770 non-null  float64\n",
      " 10  Number of private cycles    523776 non-null  float64\n",
      " 11  Number of cycle hire bikes  523776 non-null  float64\n",
      " 12  Total cycles                523776 non-null  float64\n",
      "dtypes: float64(6), object(7)\n",
      "memory usage: 61.0+ MB\n",
      "None\n"
     ]
    }
   ],
   "source": [
    "print(inner_london.info())"
   ]
  },
  {
   "cell_type": "code",
   "execution_count": 9,
   "id": "817e93d3",
   "metadata": {},
   "outputs": [
    {
     "name": "stdout",
     "output_type": "stream",
     "text": [
      "   Survey wave (year)   Site ID    Location    Survey date Weather  \\\n",
      "0              2015.0  INNCY001  Grove Road  mer, 20/05/15     Dry   \n",
      "1              2015.0  INNCY001  Grove Road  mer, 20/05/15     Dry   \n",
      "2              2015.0  INNCY001  Grove Road  mer, 20/05/15     Dry   \n",
      "3              2015.0  INNCY001  Grove Road  mer, 20/05/15     Dry   \n",
      "4              2015.0  INNCY001  Grove Road  mer, 20/05/15     Dry   \n",
      "\n",
      "          Time                       Period   Direction  Start hour  \\\n",
      "0  0600 - 0615  Early Morning (06:00-07:00)  Northbound         6.0   \n",
      "1  0615 - 0630  Early Morning (06:00-07:00)  Northbound         6.0   \n",
      "2  0630 - 0645  Early Morning (06:00-07:00)  Northbound         6.0   \n",
      "3  0645 - 0700  Early Morning (06:00-07:00)  Northbound         6.0   \n",
      "4  0700 - 0715        AM peak (07:00-10:00)  Northbound         7.0   \n",
      "\n",
      "   Start minute  Number of private cycles  Number of cycle hire bikes  \\\n",
      "0           0.0                       1.0                         0.0   \n",
      "1          15.0                       2.0                         0.0   \n",
      "2          30.0                       2.0                         0.0   \n",
      "3          45.0                       4.0                         0.0   \n",
      "4           0.0                       4.0                         0.0   \n",
      "\n",
      "   Total cycles  \n",
      "0           1.0  \n",
      "1           2.0  \n",
      "2           2.0  \n",
      "3           4.0  \n",
      "4           4.0  \n"
     ]
    }
   ],
   "source": [
    "print(inner_london.head())"
   ]
  },
  {
   "cell_type": "code",
   "execution_count": 10,
   "id": "949a1389",
   "metadata": {},
   "outputs": [
    {
     "name": "stdout",
     "output_type": "stream",
     "text": [
      "       Survey wave (year)     Start hour   Start minute  \\\n",
      "count       523776.000000  523770.000000  523770.000000   \n",
      "mean          2017.986070      13.499914      22.499914   \n",
      "std              2.035381       4.609733      16.770551   \n",
      "min           2015.000000       6.000000       0.000000   \n",
      "25%           2016.000000       9.000000       0.000000   \n",
      "50%           2018.000000      13.000000      15.000000   \n",
      "75%           2020.000000      17.000000      30.000000   \n",
      "max           2021.000000      21.000000      45.000000   \n",
      "\n",
      "       Number of private cycles  Number of cycle hire bikes   Total cycles  \n",
      "count             523776.000000               523776.000000  523776.000000  \n",
      "mean                   5.929833                    0.267943       6.196408  \n",
      "std                   10.937833                    0.944529      11.309639  \n",
      "min                    0.000000                    0.000000       0.000000  \n",
      "25%                    1.000000                    0.000000       1.000000  \n",
      "50%                    3.000000                    0.000000       3.000000  \n",
      "75%                    7.000000                    0.000000       7.000000  \n",
      "max                  278.000000                   29.000000     280.000000  \n"
     ]
    }
   ],
   "source": [
    "print(inner_london.describe())"
   ]
  },
  {
   "cell_type": "markdown",
   "id": "4c0b737f",
   "metadata": {},
   "source": [
    "Observations: Inner London contains info on the date ('Survey wave (year)','Survey Date'), time ('Time', 'Period', 'Start hour', 'Start minute'), location ('Site ID', 'Location'), weather ('Weather'), direction of travel ('Direction'), and number of cycles ('Number of private cycles', 'Number of cycle hire bikes', 'Total cycles'). There are missing values for 'Survey date','Weather', 'Time', 'Period', 'Start hour', and 'Start minute'."
   ]
  },
  {
   "cell_type": "markdown",
   "id": "1b9288d5",
   "metadata": {},
   "source": [
    "## Concatentate and clean data"
   ]
  },
  {
   "cell_type": "code",
   "execution_count": 11,
   "id": "91fa9c7c",
   "metadata": {},
   "outputs": [],
   "source": [
    "# Concatente data and reset index\n",
    "london_centralandinner = pd.concat([central_london, inner_london], ignore_index = True)"
   ]
  },
  {
   "cell_type": "code",
   "execution_count": 12,
   "id": "29ae543f",
   "metadata": {},
   "outputs": [
    {
     "name": "stdout",
     "output_type": "stream",
     "text": [
      "(1663534, 18)\n"
     ]
    }
   ],
   "source": [
    "# Examine shape of new data\n",
    "print(london_centralandinner.shape)"
   ]
  },
  {
   "cell_type": "code",
   "execution_count": 13,
   "id": "de00ae9d",
   "metadata": {},
   "outputs": [
    {
     "name": "stdout",
     "output_type": "stream",
     "text": [
      "  Survey wave (calendar quarter) Equivalent financial quarter   Site ID  \\\n",
      "0        2014 Q1 (January-March)                   2013-14 Q4  CENCY001   \n",
      "1        2014 Q1 (January-March)                   2013-14 Q4  CENCY001   \n",
      "2        2014 Q1 (January-March)                   2013-14 Q4  CENCY001   \n",
      "3        2014 Q1 (January-March)                   2013-14 Q4  CENCY001   \n",
      "4        2014 Q1 (January-March)                   2013-14 Q4  CENCY001   \n",
      "\n",
      "                             Location    Survey date Weather         Time  \\\n",
      "0  Millbank (south of Thorney Street)  ven, 24/01/14     Dry  0600 - 0615   \n",
      "1  Millbank (south of Thorney Street)  ven, 24/01/14     Dry  0615 - 0630   \n",
      "2  Millbank (south of Thorney Street)  ven, 24/01/14     Dry  0630 - 0645   \n",
      "3  Millbank (south of Thorney Street)  ven, 24/01/14     Dry  0645 - 0700   \n",
      "4  Millbank (south of Thorney Street)  ven, 24/01/14     Dry  0700 - 0715   \n",
      "\n",
      "                        Period   Direction  Start hour  Start minute  \\\n",
      "0  Early Morning (06:00-07:00)  Northbound         6.0           0.0   \n",
      "1  Early Morning (06:00-07:00)  Northbound         6.0          15.0   \n",
      "2  Early Morning (06:00-07:00)  Northbound         6.0          30.0   \n",
      "3  Early Morning (06:00-07:00)  Northbound         6.0          45.0   \n",
      "4        AM peak (07:00-10:00)  Northbound         7.0           0.0   \n",
      "\n",
      "   Number of private cycles  Number of cycle hire bikes  Total cycles  \\\n",
      "0                       0.0                         0.0           0.0   \n",
      "1                      15.0                         0.0          15.0   \n",
      "2                      35.0                         0.0          35.0   \n",
      "3                      59.0                         2.0          61.0   \n",
      "4                      73.0                         0.0          73.0   \n",
      "\n",
      "   Unnamed: 14  Unnamed: 15  Unnamed: 16  Survey wave (year)  \n",
      "0          NaN          NaN          NaN                 NaN  \n",
      "1          NaN          NaN          NaN                 NaN  \n",
      "2          NaN          NaN          NaN                 NaN  \n",
      "3          NaN          NaN          NaN                 NaN  \n",
      "4          NaN          NaN          NaN                 NaN  \n"
     ]
    }
   ],
   "source": [
    "# Examine content of new data\n",
    "print(london_centralandinner.head())"
   ]
  },
  {
   "cell_type": "code",
   "execution_count": 14,
   "id": "014c6f58",
   "metadata": {},
   "outputs": [
    {
     "name": "stdout",
     "output_type": "stream",
     "text": [
      "        Survey wave (calendar quarter) Equivalent financial quarter Site ID  \\\n",
      "1663529                            NaN                          NaN     NaN   \n",
      "1663530                            NaN                          NaN     NaN   \n",
      "1663531                            NaN                          NaN     NaN   \n",
      "1663532                            NaN                          NaN     NaN   \n",
      "1663533                            NaN                          NaN     NaN   \n",
      "\n",
      "        Location Survey date Weather Time Period Direction  Start hour  \\\n",
      "1663529      NaN         NaN     NaN  NaN    NaN       NaN         NaN   \n",
      "1663530      NaN         NaN     NaN  NaN    NaN       NaN         NaN   \n",
      "1663531      NaN         NaN     NaN  NaN    NaN       NaN         NaN   \n",
      "1663532      NaN         NaN     NaN  NaN    NaN       NaN         NaN   \n",
      "1663533      NaN         NaN     NaN  NaN    NaN       NaN         NaN   \n",
      "\n",
      "         Start minute  Number of private cycles  Number of cycle hire bikes  \\\n",
      "1663529           NaN                       NaN                         NaN   \n",
      "1663530           NaN                       NaN                         NaN   \n",
      "1663531           NaN                       NaN                         NaN   \n",
      "1663532           NaN                       NaN                         NaN   \n",
      "1663533           NaN                       NaN                         NaN   \n",
      "\n",
      "         Total cycles  Unnamed: 14  Unnamed: 15  Unnamed: 16  \\\n",
      "1663529           NaN          NaN          NaN          NaN   \n",
      "1663530           NaN          NaN          NaN          NaN   \n",
      "1663531           NaN          NaN          NaN          NaN   \n",
      "1663532           NaN          NaN          NaN          NaN   \n",
      "1663533           NaN          NaN          NaN          NaN   \n",
      "\n",
      "         Survey wave (year)  \n",
      "1663529                 NaN  \n",
      "1663530                 NaN  \n",
      "1663531                 NaN  \n",
      "1663532                 NaN  \n",
      "1663533                 NaN  \n"
     ]
    }
   ],
   "source": [
    "print(london_centralandinner.tail())"
   ]
  },
  {
   "cell_type": "code",
   "execution_count": 15,
   "id": "f8c4d8ef",
   "metadata": {},
   "outputs": [
    {
     "name": "stdout",
     "output_type": "stream",
     "text": [
      "<class 'pandas.core.frame.DataFrame'>\n",
      "RangeIndex: 1663534 entries, 0 to 1663533\n",
      "Data columns (total 18 columns):\n",
      " #   Column                          Non-Null Count    Dtype  \n",
      "---  ------                          --------------    -----  \n",
      " 0   Survey wave (calendar quarter)  758163 non-null   object \n",
      " 1   Equivalent financial quarter    758163 non-null   object \n",
      " 2   Site ID                         1281939 non-null  object \n",
      " 3   Location                        1281939 non-null  object \n",
      " 4   Survey date                     1269031 non-null  object \n",
      " 5   Weather                         1265431 non-null  object \n",
      " 6   Time                            1281933 non-null  object \n",
      " 7   Period                          1281933 non-null  object \n",
      " 8   Direction                       1281939 non-null  object \n",
      " 9   Start hour                      1281933 non-null  float64\n",
      " 10  Start minute                    1281933 non-null  float64\n",
      " 11  Number of private cycles        1281875 non-null  float64\n",
      " 12  Number of cycle hire bikes      1281875 non-null  float64\n",
      " 13  Total cycles                    1281939 non-null  float64\n",
      " 14  Unnamed: 14                     0 non-null        float64\n",
      " 15  Unnamed: 15                     0 non-null        float64\n",
      " 16  Unnamed: 16                     0 non-null        float64\n",
      " 17  Survey wave (year)              523776 non-null   float64\n",
      "dtypes: float64(9), object(9)\n",
      "memory usage: 228.5+ MB\n",
      "None\n"
     ]
    }
   ],
   "source": [
    "print(london_centralandinner.info())"
   ]
  },
  {
   "cell_type": "code",
   "execution_count": 16,
   "id": "faae1a73",
   "metadata": {},
   "outputs": [],
   "source": [
    "# Drop unneeded columns\n",
    "london_centralandinner_clean = london_centralandinner.drop(['Unnamed: 14', 'Unnamed: 15', 'Unnamed: 16'], axis=1)"
   ]
  },
  {
   "cell_type": "code",
   "execution_count": 17,
   "id": "4f54ac8d",
   "metadata": {},
   "outputs": [],
   "source": [
    "# Create Month column\n",
    "london_centralandinner_clean['Month'] = london_centralandinner_clean['Survey date'].str.split('/').str[1]"
   ]
  },
  {
   "cell_type": "code",
   "execution_count": 18,
   "id": "1e997f2f",
   "metadata": {},
   "outputs": [],
   "source": [
    "# Create Year column\n",
    "london_centralandinner_clean['Year'] = london_centralandinner_clean['Survey date'].str.split('/').str[2]"
   ]
  },
  {
   "cell_type": "markdown",
   "id": "644969f7",
   "metadata": {},
   "source": [
    "## Exploratory Data Analysis"
   ]
  },
  {
   "cell_type": "code",
   "execution_count": 19,
   "id": "c64dea1a",
   "metadata": {},
   "outputs": [
    {
     "data": {
      "text/plain": [
       "<AxesSubplot:xlabel='Number of private cycles', ylabel='Total cycles'>"
      ]
     },
     "execution_count": 19,
     "metadata": {},
     "output_type": "execute_result"
    },
    {
     "data": {
      "image/png": "[encoded data removed]",
      "text/plain": [
       "<Figure size 432x288 with 1 Axes>"
      ]
     },
     "metadata": {
      "needs_background": "light"
     },
     "output_type": "display_data"
    }
   ],
   "source": [
    "# Examine relationship between number of cycles and private cycles\n",
    "sns.scatterplot(x='Number of private cycles', y='Total cycles', data= london_centralandinner_clean)"
   ]
  },
  {
   "cell_type": "code",
   "execution_count": 20,
   "id": "6f63caba",
   "metadata": {},
   "outputs": [
    {
     "data": {
      "text/plain": [
       "<AxesSubplot:xlabel='Number of cycle hire bikes', ylabel='Total cycles'>"
      ]
     },
     "execution_count": 20,
     "metadata": {},
     "output_type": "execute_result"
    },
    {
     "data": {
      "image/png": "[encoded data removed]",
      "text/plain": [
       "<Figure size 432x288 with 1 Axes>"
      ]
     },
     "metadata": {
      "needs_background": "light"
     },
     "output_type": "display_data"
    }
   ],
   "source": [
    "# Examine relationship between number of cycles and cycle hires\n",
    "sns.scatterplot(x='Number of cycle hire bikes', y='Total cycles', data= london_centralandinner_clean)"
   ]
  },
  {
   "cell_type": "markdown",
   "id": "2a5a6d65",
   "metadata": {},
   "source": [
    "Observations: There is a much stronger linear relationship between total cycles and private cycles"
   ]
  },
  {
   "cell_type": "code",
   "execution_count": 29,
   "id": "1b4789bc",
   "metadata": {},
   "outputs": [
    {
     "data": {
      "text/plain": [
       "<AxesSubplot:xlabel='Year', ylabel='Number of private cycles'>"
      ]
     },
     "execution_count": 29,
     "metadata": {},
     "output_type": "execute_result"
    },
    {
     "data": {
      "image/png": "[encoded data removed]",
      "text/plain": [
       "<Figure size 1080x1080 with 1 Axes>"
      ]
     },
     "metadata": {},
     "output_type": "display_data"
    }
   ],
   "source": [
    "# Examine number of private cycles over time - by year\n",
    "sns.barplot(x=\"Year\", y=\"Number of private cycles\", data=london_centralandinner_clean)"
   ]
  },
  {
   "cell_type": "code",
   "execution_count": 24,
   "id": "b7a273f9",
   "metadata": {},
   "outputs": [
    {
     "data": {
      "image/png": "[encoded data removed]",
      "text/plain": [
       "<Figure size 432x288 with 1 Axes>"
      ]
     },
     "metadata": {
      "needs_background": "light"
     },
     "output_type": "display_data"
    }
   ],
   "source": [
    "# Examine number of private cycles over time - by year\n",
    "sns.boxplot(x=\"Year\", y=\"Number of private cycles\", data=london_centralandinner_clean)\n",
    "plt.ylim(0,50)\n",
    "sns.set(rc = {'figure.figsize':(15,15)})"
   ]
  },
  {
   "cell_type": "code",
   "execution_count": 31,
   "id": "6b80bd1b",
   "metadata": {},
   "outputs": [
    {
     "data": {
      "text/plain": [
       "<AxesSubplot:xlabel='Year', ylabel='Number of cycle hire bikes'>"
      ]
     },
     "execution_count": 31,
     "metadata": {},
     "output_type": "execute_result"
    },
    {
     "data": {
      "image/png": "[encoded data removed]",
      "text/plain": [
       "<Figure size 1080x1080 with 1 Axes>"
      ]
     },
     "metadata": {},
     "output_type": "display_data"
    }
   ],
   "source": [
    "# Examine number of cycle hires over time - by year\n",
    "sns.barplot(x=\"Year\", y=\"Number of cycle hire bikes\", data=london_centralandinner_clean)"
   ]
  },
  {
   "cell_type": "code",
   "execution_count": 30,
   "id": "efa99414",
   "metadata": {},
   "outputs": [
    {
     "data": {
      "image/png": "[encoded data removed]",
      "text/plain": [
       "<Figure size 1080x1080 with 1 Axes>"
      ]
     },
     "metadata": {},
     "output_type": "display_data"
    }
   ],
   "source": [
    "# Examine number of cycle hires over time - by year\n",
    "sns.boxplot(x=\"Year\", y=\"Number of cycle hire bikes\", data=london_centralandinner_clean)\n",
    "plt.ylim(0,3)\n",
    "sns.set(rc = {'figure.figsize':(15,15)})"
   ]
  },
  {
   "cell_type": "code",
   "execution_count": null,
   "id": "2850ea65",
   "metadata": {},
   "outputs": [],
   "source": []
  }
 ],
 "metadata": {
  "kernelspec": {
   "display_name": "Python 3 (ipykernel)",
   "language": "python",
   "name": "python3"
  },
  "language_info": {
   "codemirror_mode": {
    "name": "ipython",
    "version": 3
   },
   "file_extension": ".py",
   "mimetype": "text/x-python",
   "name": "python",
   "nbconvert_exporter": "python",
   "pygments_lexer": "ipython3",
   "version": "3.9.7"
  }
 },
 "nbformat": 4,
 "nbformat_minor": 5
}
