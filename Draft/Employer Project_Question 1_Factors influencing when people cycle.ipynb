{
 "cells": [
  {
   "cell_type": "markdown",
   "id": "283a95cb",
   "metadata": {},
   "source": [
    "# Factors influencing when people cycle"
   ]
  },
  {
   "cell_type": "markdown",
   "id": "892fb000",
   "metadata": {},
   "source": [
    "## Prepare workstation and import files"
   ]
  },
  {
   "cell_type": "code",
   "execution_count": 1,
   "id": "3bdf4fa9",
   "metadata": {},
   "outputs": [],
   "source": [
    "# Import libraries\n",
    "import numpy as np\n",
    "import pandas as pd\n",
    "import matplotlib.pyplot as plt\n",
    "import seaborn as sns"
   ]
  },
  {
   "cell_type": "code",
   "execution_count": 2,
   "id": "d9c2577c",
   "metadata": {},
   "outputs": [
    {
     "name": "stderr",
     "output_type": "stream",
     "text": [
      "C:\\Users\\mhbil\\anaconda3\\lib\\site-packages\\IPython\\core\\interactiveshell.py:3444: DtypeWarning: Columns (0,1,2,3,4,5,6,7,8) have mixed types.Specify dtype option on import or set low_memory=False.\n",
      "  exec(code_obj, self.user_global_ns, self.user_ns)\n",
      "C:\\Users\\mhbil\\anaconda3\\lib\\site-packages\\IPython\\core\\interactiveshell.py:3444: DtypeWarning: Columns (1,2,3,4,5,6,7) have mixed types.Specify dtype option on import or set low_memory=False.\n",
      "  exec(code_obj, self.user_global_ns, self.user_ns)\n"
     ]
    }
   ],
   "source": [
    "# Import data files\n",
    "biking_sites_london = pd.read_excel(\"Biking sites.xlsx\")\n",
    "central_london = pd.read_csv(\"Central London.csv\")\n",
    "inner_london = pd.read_csv(\"Inner London.csv\")\n",
    "outer_london = pd.read_csv(\"Outer London.csv\")"
   ]
  },
  {
   "cell_type": "markdown",
   "id": "1ac441ac",
   "metadata": {},
   "source": [
    "## Explore raw data"
   ]
  },
  {
   "cell_type": "markdown",
   "id": "93b07642",
   "metadata": {},
   "source": [
    "### Central London"
   ]
  },
  {
   "cell_type": "code",
   "execution_count": 3,
   "id": "93acff11",
   "metadata": {},
   "outputs": [
    {
     "name": "stdout",
     "output_type": "stream",
     "text": [
      "(1048366, 17)\n"
     ]
    }
   ],
   "source": [
    "print(central_london.shape)"
   ]
  },
  {
   "cell_type": "code",
   "execution_count": 4,
   "id": "5fcffde2",
   "metadata": {},
   "outputs": [
    {
     "name": "stdout",
     "output_type": "stream",
     "text": [
      "<class 'pandas.core.frame.DataFrame'>\n",
      "RangeIndex: 1048366 entries, 0 to 1048365\n",
      "Data columns (total 17 columns):\n",
      " #   Column                          Non-Null Count   Dtype  \n",
      "---  ------                          --------------   -----  \n",
      " 0   Survey wave (calendar quarter)  758163 non-null  object \n",
      " 1   Equivalent financial quarter    758163 non-null  object \n",
      " 2   Site ID                         758163 non-null  object \n",
      " 3   Location                        758163 non-null  object \n",
      " 4   Survey date                     748007 non-null  object \n",
      " 5   Weather                         746329 non-null  object \n",
      " 6   Time                            758163 non-null  object \n",
      " 7   Period                          758163 non-null  object \n",
      " 8   Direction                       758163 non-null  object \n",
      " 9   Start hour                      758163 non-null  float64\n",
      " 10  Start minute                    758163 non-null  float64\n",
      " 11  Number of private cycles        758099 non-null  float64\n",
      " 12  Number of cycle hire bikes      758099 non-null  float64\n",
      " 13  Total cycles                    758163 non-null  float64\n",
      " 14  Unnamed: 14                     0 non-null       float64\n",
      " 15  Unnamed: 15                     0 non-null       float64\n",
      " 16  Unnamed: 16                     0 non-null       float64\n",
      "dtypes: float64(8), object(9)\n",
      "memory usage: 136.0+ MB\n",
      "None\n"
     ]
    }
   ],
   "source": [
    "print(central_london.info())"
   ]
  },
  {
   "cell_type": "code",
   "execution_count": 5,
   "id": "88567144",
   "metadata": {},
   "outputs": [
    {
     "name": "stdout",
     "output_type": "stream",
     "text": [
      "  Survey wave (calendar quarter) Equivalent financial quarter   Site ID  \\\n",
      "0        2014 Q1 (January-March)                   2013-14 Q4  CENCY001   \n",
      "1        2014 Q1 (January-March)                   2013-14 Q4  CENCY001   \n",
      "2        2014 Q1 (January-March)                   2013-14 Q4  CENCY001   \n",
      "3        2014 Q1 (January-March)                   2013-14 Q4  CENCY001   \n",
      "4        2014 Q1 (January-March)                   2013-14 Q4  CENCY001   \n",
      "\n",
      "                             Location    Survey date Weather         Time  \\\n",
      "0  Millbank (south of Thorney Street)  ven, 24/01/14     Dry  0600 - 0615   \n",
      "1  Millbank (south of Thorney Street)  ven, 24/01/14     Dry  0615 - 0630   \n",
      "2  Millbank (south of Thorney Street)  ven, 24/01/14     Dry  0630 - 0645   \n",
      "3  Millbank (south of Thorney Street)  ven, 24/01/14     Dry  0645 - 0700   \n",
      "4  Millbank (south of Thorney Street)  ven, 24/01/14     Dry  0700 - 0715   \n",
      "\n",
      "                        Period   Direction  Start hour  Start minute  \\\n",
      "0  Early Morning (06:00-07:00)  Northbound         6.0           0.0   \n",
      "1  Early Morning (06:00-07:00)  Northbound         6.0          15.0   \n",
      "2  Early Morning (06:00-07:00)  Northbound         6.0          30.0   \n",
      "3  Early Morning (06:00-07:00)  Northbound         6.0          45.0   \n",
      "4        AM peak (07:00-10:00)  Northbound         7.0           0.0   \n",
      "\n",
      "   Number of private cycles  Number of cycle hire bikes  Total cycles  \\\n",
      "0                       0.0                         0.0           0.0   \n",
      "1                      15.0                         0.0          15.0   \n",
      "2                      35.0                         0.0          35.0   \n",
      "3                      59.0                         2.0          61.0   \n",
      "4                      73.0                         0.0          73.0   \n",
      "\n",
      "   Unnamed: 14  Unnamed: 15  Unnamed: 16  \n",
      "0          NaN          NaN          NaN  \n",
      "1          NaN          NaN          NaN  \n",
      "2          NaN          NaN          NaN  \n",
      "3          NaN          NaN          NaN  \n",
      "4          NaN          NaN          NaN  \n"
     ]
    }
   ],
   "source": [
    "print(central_london.head())"
   ]
  },
  {
   "cell_type": "code",
   "execution_count": 6,
   "id": "921d243c",
   "metadata": {},
   "outputs": [
    {
     "name": "stdout",
     "output_type": "stream",
     "text": [
      "          Start hour   Start minute  Number of private cycles  \\\n",
      "count  758163.000000  758163.000000             758099.000000   \n",
      "mean       13.499259      22.499951                 14.824374   \n",
      "std         4.609643      16.770530                 26.255858   \n",
      "min         6.000000       0.000000                  0.000000   \n",
      "25%         9.000000       0.000000                  2.000000   \n",
      "50%        13.000000      15.000000                  7.000000   \n",
      "75%        17.000000      30.000000                 16.000000   \n",
      "max        21.000000      45.000000               1177.000000   \n",
      "\n",
      "       Number of cycle hire bikes   Total cycles  Unnamed: 14  Unnamed: 15  \\\n",
      "count               758099.000000  758163.000000          0.0          0.0   \n",
      "mean                     1.830072      16.653040          NaN          NaN   \n",
      "std                      3.321560      28.675116          NaN          NaN   \n",
      "min                      0.000000       0.000000          NaN          NaN   \n",
      "25%                      0.000000       3.000000          NaN          NaN   \n",
      "50%                      1.000000       8.000000          NaN          NaN   \n",
      "75%                      2.000000      18.000000          NaN          NaN   \n",
      "max                    108.000000    1200.000000          NaN          NaN   \n",
      "\n",
      "       Unnamed: 16  \n",
      "count          0.0  \n",
      "mean           NaN  \n",
      "std            NaN  \n",
      "min            NaN  \n",
      "25%            NaN  \n",
      "50%            NaN  \n",
      "75%            NaN  \n",
      "max            NaN  \n"
     ]
    }
   ],
   "source": [
    "print(central_london.describe())"
   ]
  },
  {
   "cell_type": "markdown",
   "id": "644dd4a8",
   "metadata": {},
   "source": [
    "Observations: Central London contains info on the **date** ('Survey wave (calendar quarter)', 'Equivalent financial quarter', 'Survey Date'), **time** ('Time', 'Period', 'Start hour', 'Start minute'), **location** ('Site ID', 'Location'), **weather** ('Weather'), **direction of travel** ('Direction'), and **number of cycles** ('Number of private cycles', 'Number of cycle hire bikes', 'Total cycles'). 'Unnamed: 14' , 'Unnamed: 15', and 'Unnamed: 16' can be removed since they contain empty values. There are missing values for 'Survey date,' 'Weather,' 'Number of private cycles,' and 'Number of cycle hire bikes.'"
   ]
  },
  {
   "cell_type": "markdown",
   "id": "21f6fed2",
   "metadata": {},
   "source": [
    "### Inner London"
   ]
  },
  {
   "cell_type": "code",
   "execution_count": 7,
   "id": "7d70f58d",
   "metadata": {},
   "outputs": [
    {
     "name": "stdout",
     "output_type": "stream",
     "text": [
      "(615168, 13)\n"
     ]
    }
   ],
   "source": [
    "print(inner_london.shape)"
   ]
  },
  {
   "cell_type": "code",
   "execution_count": 8,
   "id": "dc44495d",
   "metadata": {},
   "outputs": [
    {
     "name": "stdout",
     "output_type": "stream",
     "text": [
      "<class 'pandas.core.frame.DataFrame'>\n",
      "RangeIndex: 615168 entries, 0 to 615167\n",
      "Data columns (total 13 columns):\n",
      " #   Column                      Non-Null Count   Dtype  \n",
      "---  ------                      --------------   -----  \n",
      " 0   Survey wave (year)          523776 non-null  float64\n",
      " 1   Site ID                     523776 non-null  object \n",
      " 2   Location                    523776 non-null  object \n",
      " 3   Survey date                 521024 non-null  object \n",
      " 4   Weather                     519102 non-null  object \n",
      " 5   Time                        523770 non-null  object \n",
      " 6   Period                      523770 non-null  object \n",
      " 7   Direction                   523776 non-null  object \n",
      " 8   Start hour                  523770 non-null  float64\n",
      " 9   Start minute                523770 non-null  float64\n",
      " 10  Number of private cycles    523776 non-null  float64\n",
      " 11  Number of cycle hire bikes  523776 non-null  float64\n",
      " 12  Total cycles                523776 non-null  float64\n",
      "dtypes: float64(6), object(7)\n",
      "memory usage: 61.0+ MB\n",
      "None\n"
     ]
    }
   ],
   "source": [
    "print(inner_london.info())"
   ]
  },
  {
   "cell_type": "code",
   "execution_count": 9,
   "id": "26bcdd3b",
   "metadata": {},
   "outputs": [
    {
     "name": "stdout",
     "output_type": "stream",
     "text": [
      "   Survey wave (year)   Site ID    Location    Survey date Weather  \\\n",
      "0              2015.0  INNCY001  Grove Road  mer, 20/05/15     Dry   \n",
      "1              2015.0  INNCY001  Grove Road  mer, 20/05/15     Dry   \n",
      "2              2015.0  INNCY001  Grove Road  mer, 20/05/15     Dry   \n",
      "3              2015.0  INNCY001  Grove Road  mer, 20/05/15     Dry   \n",
      "4              2015.0  INNCY001  Grove Road  mer, 20/05/15     Dry   \n",
      "\n",
      "          Time                       Period   Direction  Start hour  \\\n",
      "0  0600 - 0615  Early Morning (06:00-07:00)  Northbound         6.0   \n",
      "1  0615 - 0630  Early Morning (06:00-07:00)  Northbound         6.0   \n",
      "2  0630 - 0645  Early Morning (06:00-07:00)  Northbound         6.0   \n",
      "3  0645 - 0700  Early Morning (06:00-07:00)  Northbound         6.0   \n",
      "4  0700 - 0715        AM peak (07:00-10:00)  Northbound         7.0   \n",
      "\n",
      "   Start minute  Number of private cycles  Number of cycle hire bikes  \\\n",
      "0           0.0                       1.0                         0.0   \n",
      "1          15.0                       2.0                         0.0   \n",
      "2          30.0                       2.0                         0.0   \n",
      "3          45.0                       4.0                         0.0   \n",
      "4           0.0                       4.0                         0.0   \n",
      "\n",
      "   Total cycles  \n",
      "0           1.0  \n",
      "1           2.0  \n",
      "2           2.0  \n",
      "3           4.0  \n",
      "4           4.0  \n"
     ]
    }
   ],
   "source": [
    "print(inner_london.head())"
   ]
  },
  {
   "cell_type": "code",
   "execution_count": 10,
   "id": "8cbd30ad",
   "metadata": {},
   "outputs": [
    {
     "name": "stdout",
     "output_type": "stream",
     "text": [
      "       Survey wave (year)     Start hour   Start minute  \\\n",
      "count       523776.000000  523770.000000  523770.000000   \n",
      "mean          2017.986070      13.499914      22.499914   \n",
      "std              2.035381       4.609733      16.770551   \n",
      "min           2015.000000       6.000000       0.000000   \n",
      "25%           2016.000000       9.000000       0.000000   \n",
      "50%           2018.000000      13.000000      15.000000   \n",
      "75%           2020.000000      17.000000      30.000000   \n",
      "max           2021.000000      21.000000      45.000000   \n",
      "\n",
      "       Number of private cycles  Number of cycle hire bikes   Total cycles  \n",
      "count             523776.000000               523776.000000  523776.000000  \n",
      "mean                   5.929833                    0.267943       6.196408  \n",
      "std                   10.937833                    0.944529      11.309639  \n",
      "min                    0.000000                    0.000000       0.000000  \n",
      "25%                    1.000000                    0.000000       1.000000  \n",
      "50%                    3.000000                    0.000000       3.000000  \n",
      "75%                    7.000000                    0.000000       7.000000  \n",
      "max                  278.000000                   29.000000     280.000000  \n"
     ]
    }
   ],
   "source": [
    "print(inner_london.describe())"
   ]
  },
  {
   "cell_type": "markdown",
   "id": "52c20311",
   "metadata": {},
   "source": [
    "Observations: Inner London contains info on the **date** ('Survey wave (year)','Survey Date'), **time** ('Time', 'Period', 'Start hour', 'Start minute'), **location** ('Site ID', 'Location'), **weather** ('Weather'), **direction of travel** ('Direction'), and **number of cycles** ('Number of private cycles', 'Number of cycle hire bikes', 'Total cycles'). There are missing values for 'Survey date','Weather', 'Time', 'Period', 'Start hour', and 'Start minute'."
   ]
  },
  {
   "cell_type": "markdown",
   "id": "977694f9",
   "metadata": {},
   "source": [
    "### Outer London"
   ]
  },
  {
   "cell_type": "code",
   "execution_count": 11,
   "id": "3b6ef9d3",
   "metadata": {},
   "outputs": [
    {
     "name": "stdout",
     "output_type": "stream",
     "text": [
      "(375660, 14)\n"
     ]
    }
   ],
   "source": [
    "print(outer_london.shape)"
   ]
  },
  {
   "cell_type": "code",
   "execution_count": 12,
   "id": "b375d430",
   "metadata": {},
   "outputs": [
    {
     "name": "stdout",
     "output_type": "stream",
     "text": [
      "<class 'pandas.core.frame.DataFrame'>\n",
      "RangeIndex: 375660 entries, 0 to 375659\n",
      "Data columns (total 14 columns):\n",
      " #   Column                    Non-Null Count   Dtype \n",
      "---  ------                    --------------   ----- \n",
      " 0   Survey wave (year)        375660 non-null  int64 \n",
      " 1   Site ID                   375660 non-null  object\n",
      " 2   Location                  375660 non-null  object\n",
      " 3   Survey date               374492 non-null  object\n",
      " 4   Weather                   374692 non-null  object\n",
      " 5   Time                      375660 non-null  object\n",
      " 6   Period                    375660 non-null  object\n",
      " 7   Direction                 375660 non-null  object\n",
      " 8   Start hour                375660 non-null  int64 \n",
      " 9   Start minute              375660 non-null  int64 \n",
      " 10  Number of male cycles     375660 non-null  int64 \n",
      " 11  Number of female cycles   375660 non-null  int64 \n",
      " 12  Number of unknown cycles  375660 non-null  int64 \n",
      " 13  Total cycles              375660 non-null  int64 \n",
      "dtypes: int64(7), object(7)\n",
      "memory usage: 40.1+ MB\n",
      "None\n"
     ]
    }
   ],
   "source": [
    "print(outer_london.info())"
   ]
  },
  {
   "cell_type": "code",
   "execution_count": 13,
   "id": "a3b81ef3",
   "metadata": {},
   "outputs": [
    {
     "name": "stdout",
     "output_type": "stream",
     "text": [
      "   Survey wave (year)   Site ID          Location    Survey date Weather  \\\n",
      "0                2015  OUTCY001  High Road Leyton  ven, 26/06/15     Dry   \n",
      "1                2015  OUTCY001  High Road Leyton  ven, 26/06/15     Dry   \n",
      "2                2015  OUTCY001  High Road Leyton  ven, 26/06/15     Dry   \n",
      "3                2015  OUTCY001  High Road Leyton  ven, 26/06/15     Dry   \n",
      "4                2015  OUTCY001  High Road Leyton  ven, 26/06/15     Dry   \n",
      "\n",
      "          Time                       Period   Direction  Start hour  \\\n",
      "0  0600 - 0615  Early Morning (06:00-07:00)  Northbound           6   \n",
      "1  0615 - 0630  Early Morning (06:00-07:00)  Northbound           6   \n",
      "2  0630 - 0645  Early Morning (06:00-07:00)  Northbound           6   \n",
      "3  0645 - 0700  Early Morning (06:00-07:00)  Northbound           6   \n",
      "4  0700 - 0715        AM peak (07:00-10:00)  Northbound           7   \n",
      "\n",
      "   Start minute  Number of male cycles  Number of female cycles  \\\n",
      "0             0                      2                        1   \n",
      "1            15                      3                        0   \n",
      "2            30                      2                        0   \n",
      "3            45                      4                        0   \n",
      "4             0                      4                        1   \n",
      "\n",
      "   Number of unknown cycles  Total cycles  \n",
      "0                         0             3  \n",
      "1                         0             3  \n",
      "2                         0             2  \n",
      "3                         0             4  \n",
      "4                         0             5  \n"
     ]
    }
   ],
   "source": [
    "print(outer_london.head())"
   ]
  },
  {
   "cell_type": "code",
   "execution_count": 14,
   "id": "7508135e",
   "metadata": {},
   "outputs": [
    {
     "name": "stdout",
     "output_type": "stream",
     "text": [
      "       Survey wave (year)     Start hour   Start minute  \\\n",
      "count       375660.000000  375660.000000  375660.000000   \n",
      "mean          2017.848267      13.499643      22.499840   \n",
      "std              1.993641       4.609639      16.770532   \n",
      "min           2015.000000       6.000000       0.000000   \n",
      "25%           2016.000000       9.000000       0.000000   \n",
      "50%           2018.000000      13.000000      15.000000   \n",
      "75%           2019.000000      17.000000      30.000000   \n",
      "max           2021.000000      21.000000      45.000000   \n",
      "\n",
      "       Number of male cycles  Number of female cycles  \\\n",
      "count          375660.000000            375660.000000   \n",
      "mean                1.335207                 0.240646   \n",
      "std                 2.701113                 0.751606   \n",
      "min                 0.000000                 0.000000   \n",
      "25%                 0.000000                 0.000000   \n",
      "50%                 0.000000                 0.000000   \n",
      "75%                 2.000000                 0.000000   \n",
      "max                62.000000                19.000000   \n",
      "\n",
      "       Number of unknown cycles   Total cycles  \n",
      "count             375660.000000  375660.000000  \n",
      "mean                   0.013837       1.589695  \n",
      "std                    0.157072       3.165160  \n",
      "min                    0.000000       0.000000  \n",
      "25%                    0.000000       0.000000  \n",
      "50%                    0.000000       0.000000  \n",
      "75%                    0.000000       2.000000  \n",
      "max                   13.000000      78.000000  \n"
     ]
    }
   ],
   "source": [
    "print(outer_london.describe())"
   ]
  },
  {
   "cell_type": "markdown",
   "id": "3cc4f1c2",
   "metadata": {},
   "source": [
    "Observations: Outer London contains info on the **date** ('Survey wave (year)','Survey Date'), **time** ('Time', 'Period', 'Start hour', 'Start minute'), **location** ('Site ID', 'Location'), **weather** ('Weather'), **direction of travel** ('Direction'), and **number of cycles** ('Number of male cycles', 'Number of female cycles', 'Number of unknown cycles', and 'Total cycles'). There are missing values for 'Survey date' and 'Weather.'"
   ]
  },
  {
   "cell_type": "markdown",
   "id": "a81ad0f2",
   "metadata": {},
   "source": [
    "Overall London data observations: Central, Inner, and Outer London data frames have the following columns in common: **date** ('Survey Date'), **time** ('Time', 'Period', 'Start hour', 'Start minute'), **location** ('Site ID', 'Location'), **weather** ('Weather'), **direction of travel** ('Direction'), and **number of cycles** ('Total cycles')."
   ]
  },
  {
   "cell_type": "markdown",
   "id": "55cc7dca",
   "metadata": {},
   "source": [
    "## Concatenate and clean data"
   ]
  },
  {
   "cell_type": "code",
   "execution_count": 15,
   "id": "42d9a2ad",
   "metadata": {},
   "outputs": [],
   "source": [
    "# Concatente data and reset index\n",
    "london_all = pd.concat([central_london, inner_london, outer_london], ignore_index = True)"
   ]
  },
  {
   "cell_type": "code",
   "execution_count": 16,
   "id": "0af84253",
   "metadata": {},
   "outputs": [
    {
     "name": "stdout",
     "output_type": "stream",
     "text": [
      "(2039194, 21)\n"
     ]
    }
   ],
   "source": [
    "# Examine shape of new data\n",
    "print(london_all.shape)"
   ]
  },
  {
   "cell_type": "code",
   "execution_count": 17,
   "id": "06b5a793",
   "metadata": {},
   "outputs": [
    {
     "name": "stdout",
     "output_type": "stream",
     "text": [
      "  Survey wave (calendar quarter) Equivalent financial quarter   Site ID  \\\n",
      "0        2014 Q1 (January-March)                   2013-14 Q4  CENCY001   \n",
      "1        2014 Q1 (January-March)                   2013-14 Q4  CENCY001   \n",
      "2        2014 Q1 (January-March)                   2013-14 Q4  CENCY001   \n",
      "3        2014 Q1 (January-March)                   2013-14 Q4  CENCY001   \n",
      "4        2014 Q1 (January-March)                   2013-14 Q4  CENCY001   \n",
      "\n",
      "                             Location    Survey date Weather         Time  \\\n",
      "0  Millbank (south of Thorney Street)  ven, 24/01/14     Dry  0600 - 0615   \n",
      "1  Millbank (south of Thorney Street)  ven, 24/01/14     Dry  0615 - 0630   \n",
      "2  Millbank (south of Thorney Street)  ven, 24/01/14     Dry  0630 - 0645   \n",
      "3  Millbank (south of Thorney Street)  ven, 24/01/14     Dry  0645 - 0700   \n",
      "4  Millbank (south of Thorney Street)  ven, 24/01/14     Dry  0700 - 0715   \n",
      "\n",
      "                        Period   Direction  Start hour  ...  \\\n",
      "0  Early Morning (06:00-07:00)  Northbound         6.0  ...   \n",
      "1  Early Morning (06:00-07:00)  Northbound         6.0  ...   \n",
      "2  Early Morning (06:00-07:00)  Northbound         6.0  ...   \n",
      "3  Early Morning (06:00-07:00)  Northbound         6.0  ...   \n",
      "4        AM peak (07:00-10:00)  Northbound         7.0  ...   \n",
      "\n",
      "   Number of private cycles  Number of cycle hire bikes  Total cycles  \\\n",
      "0                       0.0                         0.0           0.0   \n",
      "1                      15.0                         0.0          15.0   \n",
      "2                      35.0                         0.0          35.0   \n",
      "3                      59.0                         2.0          61.0   \n",
      "4                      73.0                         0.0          73.0   \n",
      "\n",
      "   Unnamed: 14  Unnamed: 15  Unnamed: 16  Survey wave (year)  \\\n",
      "0          NaN          NaN          NaN                 NaN   \n",
      "1          NaN          NaN          NaN                 NaN   \n",
      "2          NaN          NaN          NaN                 NaN   \n",
      "3          NaN          NaN          NaN                 NaN   \n",
      "4          NaN          NaN          NaN                 NaN   \n",
      "\n",
      "   Number of male cycles  Number of female cycles  Number of unknown cycles  \n",
      "0                    NaN                      NaN                       NaN  \n",
      "1                    NaN                      NaN                       NaN  \n",
      "2                    NaN                      NaN                       NaN  \n",
      "3                    NaN                      NaN                       NaN  \n",
      "4                    NaN                      NaN                       NaN  \n",
      "\n",
      "[5 rows x 21 columns]\n"
     ]
    }
   ],
   "source": [
    "# Examine content of new data\n",
    "print(london_all.head())"
   ]
  },
  {
   "cell_type": "code",
   "execution_count": 18,
   "id": "d451aa2d",
   "metadata": {},
   "outputs": [
    {
     "name": "stdout",
     "output_type": "stream",
     "text": [
      "        Survey wave (calendar quarter) Equivalent financial quarter   Site ID  \\\n",
      "2039189                            NaN                          NaN  OUTCY451   \n",
      "2039190                            NaN                          NaN  OUTCY451   \n",
      "2039191                            NaN                          NaN  OUTCY451   \n",
      "2039192                            NaN                          NaN  OUTCY451   \n",
      "2039193                            NaN                          NaN  OUTCY451   \n",
      "\n",
      "                             Location    Survey date Weather         Time  \\\n",
      "2039189  Thames Path (Lower Ham Road)  ven, 18/06/21     Wet  2045 - 2100   \n",
      "2039190  Thames Path (Lower Ham Road)  ven, 18/06/21     Wet  2100 - 2115   \n",
      "2039191  Thames Path (Lower Ham Road)  ven, 18/06/21     Wet  2115 - 2130   \n",
      "2039192  Thames Path (Lower Ham Road)  ven, 18/06/21     Wet  2130 - 2145   \n",
      "2039193  Thames Path (Lower Ham Road)  ven, 18/06/21     Wet  2145 - 2200   \n",
      "\n",
      "                        Period   Direction  Start hour  ...  \\\n",
      "2039189  Evening (19:00-22:00)  Southbound        20.0  ...   \n",
      "2039190  Evening (19:00-22:00)  Southbound        21.0  ...   \n",
      "2039191  Evening (19:00-22:00)  Southbound        21.0  ...   \n",
      "2039192  Evening (19:00-22:00)  Southbound        21.0  ...   \n",
      "2039193  Evening (19:00-22:00)  Southbound        21.0  ...   \n",
      "\n",
      "         Number of private cycles  Number of cycle hire bikes  Total cycles  \\\n",
      "2039189                       NaN                         NaN           1.0   \n",
      "2039190                       NaN                         NaN           2.0   \n",
      "2039191                       NaN                         NaN           0.0   \n",
      "2039192                       NaN                         NaN           0.0   \n",
      "2039193                       NaN                         NaN           1.0   \n",
      "\n",
      "         Unnamed: 14  Unnamed: 15  Unnamed: 16  Survey wave (year)  \\\n",
      "2039189          NaN          NaN          NaN              2021.0   \n",
      "2039190          NaN          NaN          NaN              2021.0   \n",
      "2039191          NaN          NaN          NaN              2021.0   \n",
      "2039192          NaN          NaN          NaN              2021.0   \n",
      "2039193          NaN          NaN          NaN              2021.0   \n",
      "\n",
      "         Number of male cycles  Number of female cycles  \\\n",
      "2039189                    1.0                      0.0   \n",
      "2039190                    2.0                      0.0   \n",
      "2039191                    0.0                      0.0   \n",
      "2039192                    0.0                      0.0   \n",
      "2039193                    1.0                      0.0   \n",
      "\n",
      "         Number of unknown cycles  \n",
      "2039189                       0.0  \n",
      "2039190                       0.0  \n",
      "2039191                       0.0  \n",
      "2039192                       0.0  \n",
      "2039193                       0.0  \n",
      "\n",
      "[5 rows x 21 columns]\n"
     ]
    }
   ],
   "source": [
    "print(london_all.tail())"
   ]
  },
  {
   "cell_type": "code",
   "execution_count": 19,
   "id": "74d6c44d",
   "metadata": {},
   "outputs": [
    {
     "name": "stdout",
     "output_type": "stream",
     "text": [
      "<class 'pandas.core.frame.DataFrame'>\n",
      "RangeIndex: 2039194 entries, 0 to 2039193\n",
      "Data columns (total 21 columns):\n",
      " #   Column                          Dtype  \n",
      "---  ------                          -----  \n",
      " 0   Survey wave (calendar quarter)  object \n",
      " 1   Equivalent financial quarter    object \n",
      " 2   Site ID                         object \n",
      " 3   Location                        object \n",
      " 4   Survey date                     object \n",
      " 5   Weather                         object \n",
      " 6   Time                            object \n",
      " 7   Period                          object \n",
      " 8   Direction                       object \n",
      " 9   Start hour                      float64\n",
      " 10  Start minute                    float64\n",
      " 11  Number of private cycles        float64\n",
      " 12  Number of cycle hire bikes      float64\n",
      " 13  Total cycles                    float64\n",
      " 14  Unnamed: 14                     float64\n",
      " 15  Unnamed: 15                     float64\n",
      " 16  Unnamed: 16                     float64\n",
      " 17  Survey wave (year)              float64\n",
      " 18  Number of male cycles           float64\n",
      " 19  Number of female cycles         float64\n",
      " 20  Number of unknown cycles        float64\n",
      "dtypes: float64(12), object(9)\n",
      "memory usage: 326.7+ MB\n",
      "None\n"
     ]
    }
   ],
   "source": [
    "print(london_all.info())"
   ]
  },
  {
   "cell_type": "code",
   "execution_count": 20,
   "id": "d2e99f16",
   "metadata": {},
   "outputs": [],
   "source": [
    "# Drop unneeded columns\n",
    "london_clean = london_all.drop(['Survey wave (calendar quarter)', 'Equivalent financial quarter', 'Number of private cycles',\n",
    "                'Number of cycle hire bikes', 'Unnamed: 14', 'Unnamed: 15', 'Unnamed: 16', 'Survey wave (year)',\n",
    "                'Number of male cycles', 'Number of female cycles', 'Number of unknown cycles'], axis=1)"
   ]
  },
  {
   "cell_type": "code",
   "execution_count": 21,
   "id": "ded6bf17",
   "metadata": {},
   "outputs": [],
   "source": [
    "# Create Month column\n",
    "london_clean['Month'] = london_clean['Survey date'].str.split('/').str[1]"
   ]
  },
  {
   "cell_type": "code",
   "execution_count": 22,
   "id": "c563771b",
   "metadata": {},
   "outputs": [],
   "source": [
    "# Create Year column\n",
    "london_clean['Year'] = london_clean['Survey date'].str.split('/').str[2]"
   ]
  },
  {
   "cell_type": "code",
   "execution_count": 23,
   "id": "88570332",
   "metadata": {},
   "outputs": [
    {
     "data": {
      "text/html": [
       "<div>\n",
       "<style scoped>\n",
       "    .dataframe tbody tr th:only-of-type {\n",
       "        vertical-align: middle;\n",
       "    }\n",
       "\n",
       "    .dataframe tbody tr th {\n",
       "        vertical-align: top;\n",
       "    }\n",
       "\n",
       "    .dataframe thead th {\n",
       "        text-align: right;\n",
       "    }\n",
       "</style>\n",
       "<table border=\"1\" class=\"dataframe\">\n",
       "  <thead>\n",
       "    <tr style=\"text-align: right;\">\n",
       "      <th></th>\n",
       "      <th>Site ID</th>\n",
       "      <th>Location</th>\n",
       "      <th>Survey date</th>\n",
       "      <th>Weather</th>\n",
       "      <th>Time</th>\n",
       "      <th>Period</th>\n",
       "      <th>Direction</th>\n",
       "      <th>Start hour</th>\n",
       "      <th>Start minute</th>\n",
       "      <th>Total cycles</th>\n",
       "      <th>Month</th>\n",
       "      <th>Year</th>\n",
       "    </tr>\n",
       "  </thead>\n",
       "  <tbody>\n",
       "    <tr>\n",
       "      <th>0</th>\n",
       "      <td>CENCY001</td>\n",
       "      <td>Millbank (south of Thorney Street)</td>\n",
       "      <td>ven, 24/01/14</td>\n",
       "      <td>Dry</td>\n",
       "      <td>0600 - 0615</td>\n",
       "      <td>Early Morning (06:00-07:00)</td>\n",
       "      <td>Northbound</td>\n",
       "      <td>6.0</td>\n",
       "      <td>0.0</td>\n",
       "      <td>0.0</td>\n",
       "      <td>01</td>\n",
       "      <td>14</td>\n",
       "    </tr>\n",
       "    <tr>\n",
       "      <th>1</th>\n",
       "      <td>CENCY001</td>\n",
       "      <td>Millbank (south of Thorney Street)</td>\n",
       "      <td>ven, 24/01/14</td>\n",
       "      <td>Dry</td>\n",
       "      <td>0615 - 0630</td>\n",
       "      <td>Early Morning (06:00-07:00)</td>\n",
       "      <td>Northbound</td>\n",
       "      <td>6.0</td>\n",
       "      <td>15.0</td>\n",
       "      <td>15.0</td>\n",
       "      <td>01</td>\n",
       "      <td>14</td>\n",
       "    </tr>\n",
       "    <tr>\n",
       "      <th>2</th>\n",
       "      <td>CENCY001</td>\n",
       "      <td>Millbank (south of Thorney Street)</td>\n",
       "      <td>ven, 24/01/14</td>\n",
       "      <td>Dry</td>\n",
       "      <td>0630 - 0645</td>\n",
       "      <td>Early Morning (06:00-07:00)</td>\n",
       "      <td>Northbound</td>\n",
       "      <td>6.0</td>\n",
       "      <td>30.0</td>\n",
       "      <td>35.0</td>\n",
       "      <td>01</td>\n",
       "      <td>14</td>\n",
       "    </tr>\n",
       "    <tr>\n",
       "      <th>3</th>\n",
       "      <td>CENCY001</td>\n",
       "      <td>Millbank (south of Thorney Street)</td>\n",
       "      <td>ven, 24/01/14</td>\n",
       "      <td>Dry</td>\n",
       "      <td>0645 - 0700</td>\n",
       "      <td>Early Morning (06:00-07:00)</td>\n",
       "      <td>Northbound</td>\n",
       "      <td>6.0</td>\n",
       "      <td>45.0</td>\n",
       "      <td>61.0</td>\n",
       "      <td>01</td>\n",
       "      <td>14</td>\n",
       "    </tr>\n",
       "    <tr>\n",
       "      <th>4</th>\n",
       "      <td>CENCY001</td>\n",
       "      <td>Millbank (south of Thorney Street)</td>\n",
       "      <td>ven, 24/01/14</td>\n",
       "      <td>Dry</td>\n",
       "      <td>0700 - 0715</td>\n",
       "      <td>AM peak (07:00-10:00)</td>\n",
       "      <td>Northbound</td>\n",
       "      <td>7.0</td>\n",
       "      <td>0.0</td>\n",
       "      <td>73.0</td>\n",
       "      <td>01</td>\n",
       "      <td>14</td>\n",
       "    </tr>\n",
       "  </tbody>\n",
       "</table>\n",
       "</div>"
      ],
      "text/plain": [
       "    Site ID                            Location    Survey date Weather  \\\n",
       "0  CENCY001  Millbank (south of Thorney Street)  ven, 24/01/14     Dry   \n",
       "1  CENCY001  Millbank (south of Thorney Street)  ven, 24/01/14     Dry   \n",
       "2  CENCY001  Millbank (south of Thorney Street)  ven, 24/01/14     Dry   \n",
       "3  CENCY001  Millbank (south of Thorney Street)  ven, 24/01/14     Dry   \n",
       "4  CENCY001  Millbank (south of Thorney Street)  ven, 24/01/14     Dry   \n",
       "\n",
       "          Time                       Period   Direction  Start hour  \\\n",
       "0  0600 - 0615  Early Morning (06:00-07:00)  Northbound         6.0   \n",
       "1  0615 - 0630  Early Morning (06:00-07:00)  Northbound         6.0   \n",
       "2  0630 - 0645  Early Morning (06:00-07:00)  Northbound         6.0   \n",
       "3  0645 - 0700  Early Morning (06:00-07:00)  Northbound         6.0   \n",
       "4  0700 - 0715        AM peak (07:00-10:00)  Northbound         7.0   \n",
       "\n",
       "   Start minute  Total cycles Month Year  \n",
       "0           0.0           0.0    01   14  \n",
       "1          15.0          15.0    01   14  \n",
       "2          30.0          35.0    01   14  \n",
       "3          45.0          61.0    01   14  \n",
       "4           0.0          73.0    01   14  "
      ]
     },
     "execution_count": 23,
     "metadata": {},
     "output_type": "execute_result"
    }
   ],
   "source": [
    "# Check that new columns were added\n",
    "london_clean.head()"
   ]
  },
  {
   "cell_type": "code",
   "execution_count": 24,
   "id": "54eab302",
   "metadata": {},
   "outputs": [
    {
     "data": {
      "text/plain": [
       "06    342097\n",
       "05    322130\n",
       "07    197446\n",
       "04    187294\n",
       "09    116110\n",
       "10     91949\n",
       "11     77933\n",
       "01     71934\n",
       "08     69880\n",
       "03     58696\n",
       "12     55862\n",
       "02     51936\n",
       "Name: Month, dtype: int64"
      ]
     },
     "execution_count": 24,
     "metadata": {},
     "output_type": "execute_result"
    }
   ],
   "source": [
    "# Check Month values\n",
    "london_clean['Month'].value_counts()"
   ]
  },
  {
   "cell_type": "code",
   "execution_count": 25,
   "id": "c3afe949",
   "metadata": {},
   "outputs": [
    {
     "data": {
      "text/plain": [
       "19    240432\n",
       "18    239060\n",
       "17    235052\n",
       "16    235008\n",
       "15    234292\n",
       "21    226515\n",
       "20    130368\n",
       "14    102540\n",
       "Name: Year, dtype: int64"
      ]
     },
     "execution_count": 25,
     "metadata": {},
     "output_type": "execute_result"
    }
   ],
   "source": [
    "# Check Year values\n",
    "london_clean['Year'].value_counts()"
   ]
  },
  {
   "cell_type": "code",
   "execution_count": 26,
   "id": "79204e79",
   "metadata": {},
   "outputs": [
    {
     "name": "stdout",
     "output_type": "stream",
     "text": [
      "Number of missing values for Survey date: 395671\n",
      "Number of missing values for Month: 395927\n",
      "Number of missing values for Year: 395927\n"
     ]
    }
   ],
   "source": [
    "# Check missing Month and Year values\n",
    "print(f\"Number of missing values for Survey date: {london_clean['Survey date'].isnull().sum()}\")\n",
    "print(f\"Number of missing values for Month: {london_clean['Month'].isnull().sum()}\")\n",
    "print(f\"Number of missing values for Year: {london_clean['Year'].isnull().sum()}\")"
   ]
  },
  {
   "cell_type": "code",
   "execution_count": 27,
   "id": "4ec5df77",
   "metadata": {},
   "outputs": [
    {
     "name": "stdout",
     "output_type": "stream",
     "text": [
      "654784     \n",
      "654785     \n",
      "654786     \n",
      "654787     \n",
      "654788     \n",
      "         ..\n",
      "664251     \n",
      "664252     \n",
      "664253     \n",
      "664254     \n",
      "664255     \n",
      "Name: Survey date, Length: 256, dtype: object\n"
     ]
    }
   ],
   "source": [
    "# Examine what Survey date looks like when Month is missing but Survey date is not\n",
    "sub_df = london_clean[london_clean['Month'].isnull() & ~ london_clean['Survey date'].isnull()]\n",
    "print(sub_df['Survey date'])"
   ]
  },
  {
   "cell_type": "markdown",
   "id": "6210c8f8",
   "metadata": {},
   "source": [
    "Observation: There are 256 values where Survey date is not formatted properly. Given the large size of the overall data set, we will ignore these values."
   ]
  },
  {
   "cell_type": "code",
   "execution_count": 28,
   "id": "08d6a572",
   "metadata": {},
   "outputs": [
    {
     "data": {
      "text/plain": [
       "Site ID          object\n",
       "Location         object\n",
       "Survey date      object\n",
       "Weather          object\n",
       "Time             object\n",
       "Period           object\n",
       "Direction        object\n",
       "Start hour      float64\n",
       "Start minute    float64\n",
       "Total cycles    float64\n",
       "Month            object\n",
       "Year             object\n",
       "dtype: object"
      ]
     },
     "execution_count": 28,
     "metadata": {},
     "output_type": "execute_result"
    }
   ],
   "source": [
    "# Check Month and Year dtype\n",
    "london_clean.dtypes"
   ]
  },
  {
   "cell_type": "code",
   "execution_count": 29,
   "id": "c3c54790",
   "metadata": {},
   "outputs": [
    {
     "name": "stdout",
     "output_type": "stream",
     "text": [
      "Site ID          object\n",
      "Location         object\n",
      "Survey date      object\n",
      "Weather          object\n",
      "Time             object\n",
      "Period           object\n",
      "Direction        object\n",
      "Start hour      float64\n",
      "Start minute    float64\n",
      "Total cycles    float64\n",
      "Month           float64\n",
      "Year            float64\n",
      "dtype: object\n"
     ]
    }
   ],
   "source": [
    "# Change Month and Year dtype to float\n",
    "london_clean['Month'] = london_clean['Month'].astype(float)\n",
    "london_clean['Year'] = london_clean['Year'].astype(float)\n",
    "print(london_clean.dtypes)"
   ]
  },
  {
   "cell_type": "code",
   "execution_count": 30,
   "id": "b3c8c14a",
   "metadata": {},
   "outputs": [
    {
     "name": "stdout",
     "output_type": "stream",
     "text": [
      "Summer    609423\n",
      "Spring    568120\n",
      "0         395927\n",
      "Autumn    285992\n",
      "Winter    179732\n",
      "Name: Season, dtype: int64\n",
      "    Site ID                            Location    Survey date Weather  \\\n",
      "0  CENCY001  Millbank (south of Thorney Street)  ven, 24/01/14     Dry   \n",
      "1  CENCY001  Millbank (south of Thorney Street)  ven, 24/01/14     Dry   \n",
      "2  CENCY001  Millbank (south of Thorney Street)  ven, 24/01/14     Dry   \n",
      "3  CENCY001  Millbank (south of Thorney Street)  ven, 24/01/14     Dry   \n",
      "4  CENCY001  Millbank (south of Thorney Street)  ven, 24/01/14     Dry   \n",
      "\n",
      "          Time                       Period   Direction  Start hour  \\\n",
      "0  0600 - 0615  Early Morning (06:00-07:00)  Northbound         6.0   \n",
      "1  0615 - 0630  Early Morning (06:00-07:00)  Northbound         6.0   \n",
      "2  0630 - 0645  Early Morning (06:00-07:00)  Northbound         6.0   \n",
      "3  0645 - 0700  Early Morning (06:00-07:00)  Northbound         6.0   \n",
      "4  0700 - 0715        AM peak (07:00-10:00)  Northbound         7.0   \n",
      "\n",
      "   Start minute  Total cycles  Month  Year  Season  \n",
      "0           0.0           0.0    1.0  14.0  Winter  \n",
      "1          15.0          15.0    1.0  14.0  Winter  \n",
      "2          30.0          35.0    1.0  14.0  Winter  \n",
      "3          45.0          61.0    1.0  14.0  Winter  \n",
      "4           0.0          73.0    1.0  14.0  Winter  \n",
      "          Site ID                      Location    Survey date Weather  \\\n",
      "2039189  OUTCY451  Thames Path (Lower Ham Road)  ven, 18/06/21     Wet   \n",
      "2039190  OUTCY451  Thames Path (Lower Ham Road)  ven, 18/06/21     Wet   \n",
      "2039191  OUTCY451  Thames Path (Lower Ham Road)  ven, 18/06/21     Wet   \n",
      "2039192  OUTCY451  Thames Path (Lower Ham Road)  ven, 18/06/21     Wet   \n",
      "2039193  OUTCY451  Thames Path (Lower Ham Road)  ven, 18/06/21     Wet   \n",
      "\n",
      "                Time                 Period   Direction  Start hour  \\\n",
      "2039189  2045 - 2100  Evening (19:00-22:00)  Southbound        20.0   \n",
      "2039190  2100 - 2115  Evening (19:00-22:00)  Southbound        21.0   \n",
      "2039191  2115 - 2130  Evening (19:00-22:00)  Southbound        21.0   \n",
      "2039192  2130 - 2145  Evening (19:00-22:00)  Southbound        21.0   \n",
      "2039193  2145 - 2200  Evening (19:00-22:00)  Southbound        21.0   \n",
      "\n",
      "         Start minute  Total cycles  Month  Year  Season  \n",
      "2039189          45.0           1.0    6.0  21.0  Summer  \n",
      "2039190           0.0           2.0    6.0  21.0  Summer  \n",
      "2039191          15.0           0.0    6.0  21.0  Summer  \n",
      "2039192          30.0           0.0    6.0  21.0  Summer  \n",
      "2039193          45.0           1.0    6.0  21.0  Summer  \n"
     ]
    }
   ],
   "source": [
    "# Create Season column\n",
    "\n",
    "# Create a list of conditions\n",
    "conditions = [\n",
    "    (london_clean['Month'] > 2) & (london_clean['Month'] <= 5),\n",
    "    (london_clean['Month'] == 12) | (london_clean['Month'] <= 2),\n",
    "    (london_clean['Month'] > 8) & (london_clean['Month'] <= 11),\n",
    "    (london_clean['Month'] > 5) & (london_clean['Month'] <= 8)\n",
    "]\n",
    "\n",
    "# Create a list of values to assign for each condition\n",
    "values = ['Spring', 'Winter', 'Autumn', 'Summer']\n",
    "\n",
    "# Create new 'Seasons' column and use np.select to assign values to it\n",
    "london_clean['Season'] = np.select(conditions, values)\n",
    "\n",
    "# Display updated DataFrame\n",
    "print(london_clean.Season.value_counts())\n",
    "print(london_clean.head())\n",
    "print(london_clean.tail())"
   ]
  },
  {
   "cell_type": "code",
   "execution_count": 31,
   "id": "ae317d9e",
   "metadata": {},
   "outputs": [
    {
     "name": "stdout",
     "output_type": "stream",
     "text": [
      "Number of missing values for Month: 395927\n"
     ]
    }
   ],
   "source": [
    "# There are 395327 values of 0 for 'Season.' Check that season was applied to all applicable values\n",
    "print(f\"Number of missing values for Month: {london_clean['Month'].isnull().sum()}\")"
   ]
  },
  {
   "cell_type": "markdown",
   "id": "08c36103",
   "metadata": {},
   "source": [
    "### Examine values of columns of interest"
   ]
  },
  {
   "cell_type": "code",
   "execution_count": 32,
   "id": "8962e127",
   "metadata": {},
   "outputs": [],
   "source": [
    "# View all rows\n",
    "pd.set_option('display.max_rows', None)"
   ]
  },
  {
   "cell_type": "code",
   "execution_count": 33,
   "id": "3abe1ed0",
   "metadata": {},
   "outputs": [
    {
     "data": {
      "text/plain": [
       "Dry                                1378499\n",
       "Wet                                 175489\n",
       "Fine                                 21786\n",
       "Sunny                                11952\n",
       "Cloudy                               10366\n",
       "Rain                                  9032\n",
       "N/a                                   2560\n",
       "Drizzle                               1600\n",
       "D                                     1440\n",
       "Dry/sunny                             1378\n",
       "Light Rain                            1068\n",
       "Fair                                  1020\n",
       "Damp                                   789\n",
       "Unknown                                768\n",
       "Cold                                   684\n",
       "Dry/wet                                666\n",
       "Wet/dry                                656\n",
       "Windy                                  534\n",
       "Dry & Sunny                            446\n",
       "Clear and Warm                         432\n",
       "Wet                                    408\n",
       "Cold/rain                              384\n",
       "Showers                                376\n",
       "Wet Road                               366\n",
       "Overcast                               342\n",
       "Rainy                                  312\n",
       "Lt Rain                                304\n",
       "Dry/cloudy                             284\n",
       "Sun                                    260\n",
       "Dry/cold                               260\n",
       "Rain/wind                              256\n",
       "Good                                   256\n",
       "Sun/cloudy                             234\n",
       "Dry/hot                                234\n",
       "Sunny/cloudy                           230\n",
       "Light Showers                          222\n",
       "Cloudy/rain                            214\n",
       "Hot                                    206\n",
       "Sunny/dry                              202\n",
       "Clear                                  186\n",
       "Clear and Bright                       180\n",
       "Very Wet                               180\n",
       "Dry/windy                              180\n",
       "Dry/good                               160\n",
       "Snow                                   150\n",
       "V Light Rain                           148\n",
       "Warm + Dry                             148\n",
       "Cold/dry                               148\n",
       "Cloudy/dry                             148\n",
       "Heavy Rain                             148\n",
       "Dry Wet Road                           146\n",
       "Dry & Windy                            144\n",
       "Dry/sun                                138\n",
       "Dry And Fine                           132\n",
       "Rain/cloudy                            130\n",
       "Sun/rain                               128\n",
       "Cloudy but dry                         128\n",
       "Cold/ Rain                             128\n",
       "Cloudy with Clear Intervals            128\n",
       "Sunny Dry                              128\n",
       "Partly Cloudy                          126\n",
       "Cloudy/sunny                           124\n",
       "Dry And Sunny                          118\n",
       "Dry Road Still Wet                     116\n",
       "Showery                                104\n",
       "Heavy Showers                           96\n",
       "Hot And Sunny                           96\n",
       "Good/dry                                96\n",
       "Cold Dry                                94\n",
       "W                                       94\n",
       "Overcast/dry                            92\n",
       "Raining                                 90\n",
       "Cold Windy Dry                          90\n",
       "Sun/clouds                              90\n",
       "Dry & Mild                              88\n",
       "Dry & Wet                               86\n",
       "Dry Hot!!                               86\n",
       "Wet/windy                               84\n",
       "Shower                                  82\n",
       "Partly cloudy and Dry                   80\n",
       "Cloudy bright intervals                 80\n",
       "Dry Sunny                               76\n",
       "Dry-wet                                 74\n",
       "Hot & Sunny                             74\n",
       "Fine + Dry                              72\n",
       "Mix Wet/dry                             72\n",
       "Wet - Dry                               72\n",
       "Dry Windy                               70\n",
       "Dry + Wet                               68\n",
       "Hot/dry                                 68\n",
       "Rain/dry                                66\n",
       "Slightly Wet                            66\n",
       "Very Hot/dry                            64\n",
       "Windy At First Then Sunny               64\n",
       "Sunny & Warm All Day                    64\n",
       "Dry/drizzly                             64\n",
       "Wet-windy                               64\n",
       "Partly cloudy and dry                   64\n",
       "Cold & Dry Early Rain Later             64\n",
       "Partly cloudy but dry                   64\n",
       "Rain/sleet                              64\n",
       "Dry, Sunny, Warm                        64\n",
       "Clear and Dry                           64\n",
       "Cloudy/hail                             64\n",
       "Wet/v.windy                             64\n",
       "Fine Cold                               64\n",
       "Fine V Cold                             64\n",
       "Fine/dry                                64\n",
       "Windy/rain                              64\n",
       "Hot + Humid                             64\n",
       "Fine & Sunny                            64\n",
       "Warm & Sunny Chilly Later               64\n",
       "Periods Of Rain Quite Windy             64\n",
       "Cold At First Then Warm/sunny           64\n",
       "Very Windy & Cold                       64\n",
       "Cold Sunny Rain                         64\n",
       "Heavy Showers Throughout Day            64\n",
       "Intermitent Light Showers               64\n",
       "Intermitent Light Rain                  64\n",
       "Cold Then Dry And Windy                 64\n",
       "Dry And Overcast                        64\n",
       "Very Cold Sunny But Windy               64\n",
       "Warm & Sunny But Windy & Cold           64\n",
       "A Bit Chilly At First                   64\n",
       "Fine + Dry Chilly At First              64\n",
       "Wet And Windy                           64\n",
       "Warm With A Slight Wind                 64\n",
       "Cloudy with clear spells                64\n",
       "Hazy                                    64\n",
       "Cloudy/ Rain                            64\n",
       "Some Showers                            64\n",
       "Blustery                                64\n",
       "Dry A.m Wet P.m                         64\n",
       "Windy/ Rain                             64\n",
       "Foggy                                   64\n",
       "Rain Stopped-dry                        62\n",
       "Fine + Hot                              56\n",
       "Warm And Humid                          56\n",
       "Fine And Dry                            56\n",
       "Dry (windy)                             54\n",
       "Mild                                    52\n",
       "Dry + Sunny                             52\n",
       "Dull                                    50\n",
       "Cloudy and Dry                          48\n",
       "High Wind                               48\n",
       "Cold/sunny                              48\n",
       "V Wet                                   48\n",
       "Warm And Windy                          48\n",
       "Rain Damp                               47\n",
       "Light Drizzle                           46\n",
       "Dry But Rain Threatening                46\n",
       "Wet-dry                                 46\n",
       "Dry & Cold                              44\n",
       "Wet (heavy Rain)                        44\n",
       "Dry Warm                                44\n",
       "Wet & Windy                             42\n",
       "Sunny But Very Windy                    42\n",
       "Dry Thu                                 42\n",
       "Dry Mon                                 40\n",
       "Dry And Very Windy                      40\n",
       "Dry But Misty                           40\n",
       "Warm Sunny And Windy                    40\n",
       "Cloudy with showers                     40\n",
       "Hot And Humid                           40\n",
       "Mild And Sunny                          40\n",
       "V Light Drizzle                         40\n",
       "Warm And Overcast                       40\n",
       "Light Shrs                              40\n",
       "Dryish                                  40\n",
       "Drizzling                               40\n",
       "Dry (frost & Fog)                       40\n",
       "High Winds & Spits Of Rain              38\n",
       "Road Wet                                36\n",
       "Sunny (hot!)                            36\n",
       "Wet Drizzle                             36\n",
       "V.wet                                   36\n",
       "Bright                                  36\n",
       "Generally overcast brief shower         34\n",
       "Very Windy                              34\n",
       "Foggy/v Cold                            34\n",
       "Wet + Windy                             34\n",
       "Rain-heavy                              34\n",
       "Wet Heavy Wind                          32\n",
       "Overcast (No Rain)                      32\n",
       "Dry Very Windy                          32\n",
       "Sunny/rainy                             32\n",
       "Dry With Intermitent Rain               32\n",
       "Dry - Wet                               32\n",
       "Overcast/rain                           32\n",
       "Dry, Sunny, Hot                         32\n",
       "Wet Heavy Rain                          32\n",
       "Dry But Wet Roads                       32\n",
       "Sleet                                   32\n",
       "Wet/ Dry                                32\n",
       "Very Cool                               32\n",
       "Dry But A Bit Windy                     32\n",
       "S. Wet                                  32\n",
       "Damp & Drizzly                          32\n",
       "Dry, Warm                               32\n",
       "Sunny Cold                              32\n",
       "Dry But Wet Road                        30\n",
       "Overcast And Dull                       30\n",
       "Spitting                                30\n",
       "Windy + Sunny                           30\n",
       "Dry/sunny/cold                          28\n",
       "Intermittent Light Drizzle              28\n",
       "Sunny Until Evening But Windy           28\n",
       "Fine & Dry                              28\n",
       "Windy Dry                               28\n",
       "dry                                     26\n",
       "Occasional Lt Snow Shrs                 26\n",
       "Wet Intermittently                      26\n",
       "Wet/damp                                26\n",
       "Dry & Very Windy                        26\n",
       "Clouds & Sunny                          26\n",
       "Steady Rain                             26\n",
       "Dry Cold                                26\n",
       "Dry/wet Road                            24\n",
       "Dry Dark                                24\n",
       "Mizzle                                  24\n",
       "Down Pour                               24\n",
       "Dry/overcast                            24\n",
       "Wet Damp                                24\n",
       "Dry And Windy                           24\n",
       "Cloudy & Sunny                          24\n",
       "Slight Drizzle                          24\n",
       "Cloudy And Warm                         24\n",
       "Sunny Periods And Warm                  24\n",
       "Very Cold/dry                           24\n",
       "Dry Wed                                 24\n",
       "Cloud                                   22\n",
       "Generally overcast                      22\n",
       "Now Starts To Get Chilly                22\n",
       "2 Snowflakes Otherwise Dry              22\n",
       "Dry/v. Windy                            22\n",
       "Dry Fri                                 22\n",
       "Wet/rain                                22\n",
       "Dry V. Cold!                            22\n",
       "Sunny & Windy                           20\n",
       "Heavy Snow                              20\n",
       "Bright/dry                              20\n",
       "Very Light Rain                         20\n",
       "Warm + Sunny Cloudy + Windy             20\n",
       "Light Showers Inc Some Hail             20\n",
       "Dull/damp                               20\n",
       "Dry/drizzle                             20\n",
       "V.light Rain                            18\n",
       "Dry/very Windy                          18\n",
       "Slight Drizzle Till End                 18\n",
       "Damp - Rain                             17\n",
       "V Lt Rain                               16\n",
       "Winds Rather Chilly                     16\n",
       "Dry (+brief Speels Of Drizzle           16\n",
       "A Few Rain Showers                      16\n",
       "V Cold Showers                          16\n",
       "Cold/showery                            16\n",
       "Cold Wind                               16\n",
       "Thunder Lightening Rain!                16\n",
       "Clear And Dry                           16\n",
       "Raining/wet                             16\n",
       "Heavy Shower                            16\n",
       "Overcast/rain Heavy Showers             16\n",
       "Cloud/sun                               16\n",
       "Dry (road Wet)                          16\n",
       "Dry - Rain                              15\n",
       "Some Heavy Showers                      14\n",
       "Dark/dry                                14\n",
       "Windy Showery                           14\n",
       "Dry/dark                                14\n",
       "Wet Again                               14\n",
       "Wet/light Showers                       12\n",
       "Dry/windy/strong Wind                   12\n",
       "Cloudy/sun                              12\n",
       "V Light Shrs                            12\n",
       "Heavy Rain High Winds                   12\n",
       "Rain Stopped                            12\n",
       "Storm                                   12\n",
       "Cloudy Dry                              12\n",
       "Foggy Wet                               12\n",
       "Dark Cloudy                             12\n",
       "V Light Showers                         12\n",
       "Intermittent Heavy Showers              12\n",
       "Drizzle/wet                             10\n",
       "Wet + Dry                               10\n",
       "Intermitent Showers                     10\n",
       "Dry And Warm                            10\n",
       "Sunny + Cloudy                          10\n",
       "Rain Shower                             10\n",
       "Wet Hail                                10\n",
       "Rain & Cloudy                           10\n",
       "Wet/cloudy                              10\n",
       "Windy/dry                               10\n",
       "Wet Rain Stopped                        10\n",
       "Cloudy/windy                            10\n",
       "Rain/wet                                10\n",
       "Wet/stop Raining                        10\n",
       "Wet/sunny                               10\n",
       "Rain Looking Likely                     10\n",
       "Light Shower                             8\n",
       "Sun & Clouds                             8\n",
       "Wet (spitting)                           8\n",
       "Intermittent Showers                     8\n",
       "Rain/showers                             8\n",
       "Warm + Sunny                             8\n",
       "A Few Drops Of Rain                      8\n",
       "Dry/wet Road Surface                     8\n",
       "Thunder                                  8\n",
       "Dry Y                                    8\n",
       "Cloudy/drizzle                           8\n",
       "Really Wet                               8\n",
       "Deluge                                   8\n",
       "Dry & Sun                                8\n",
       "Wet (windy)                              8\n",
       "Wet/thunder                              8\n",
       "Dry/gusty                                8\n",
       "Sun/Cloudy                               6\n",
       "Showers/sunny                            6\n",
       "Drizzly Rain                             6\n",
       "Fine Drizzle                             6\n",
       "Wet Road:sun                             6\n",
       "Rain/drizzle                             6\n",
       "Drizzle/rain                             6\n",
       "Damp/sun                                 6\n",
       "Damp/misty/wet                           6\n",
       "Drizzle Wet                              6\n",
       "S.wet                                    6\n",
       "V. Light Rain                            6\n",
       "Sun/cloud                                6\n",
       "Bright + Cloudy                          6\n",
       "L/rain                                   6\n",
       "Dark/cloudy                              6\n",
       "Cloudy Sun                               6\n",
       "Wettish                                  6\n",
       "Warm/dry                                 6\n",
       "Wetish                                   6\n",
       "Very Heavy Rain                          6\n",
       "Dry Road Wet With Leaves                 6\n",
       "Getting Wet                              6\n",
       "wet                                      5\n",
       "Getting Dry                              4\n",
       "Cloudy + Sunny                           4\n",
       "Drizzle/shower                           4\n",
       "Heavy Shr                                4\n",
       "Sunny Overcast                           4\n",
       "Cloudy/showers                           4\n",
       "Very Hot                                 4\n",
       "Sun Setting                              4\n",
       "Intermittent Drizzle                     4\n",
       "V. Wet                                   4\n",
       "Heavy Downpour/rain                      4\n",
       "Cloudy Sunny                             4\n",
       "Rain/hail                                4\n",
       "Almost Dry                               4\n",
       "Very Light Drizzle                       4\n",
       "Showers/cloudy                           4\n",
       "Windy/drizzle                            4\n",
       "Wet (shower)                             4\n",
       "X                                        4\n",
       "Warm                                     4\n",
       "Wet Light Hailstone                      4\n",
       "Drizzly                                  4\n",
       "Drying Up                                4\n",
       "Coldish                                  4\n",
       "Hail Stone                               4\n",
       "Damp/misty                               4\n",
       "Rain/hailstone                           4\n",
       "Drizzle/showers                          4\n",
       "(drizzle)                                4\n",
       "Sunny Cloudy                             4\n",
       "Dark Sunny                               4\n",
       "Drizzle/cloudy                           4\n",
       "S/w                                      4\n",
       "Dark Dry                                 4\n",
       "Wet T                                    4\n",
       "Wetter                                   4\n",
       "Snowing                                  4\n",
       "Hail                                     4\n",
       "Wert                                     2\n",
       "(rain After)                             2\n",
       "Dy                                       2\n",
       "Dark                                     2\n",
       "Rain Heavy Showers                       2\n",
       "Wet First Then Dry                       2\n",
       "No Rain Wet Roads                        2\n",
       "H Rain                                   2\n",
       "Wetr                                     2\n",
       "Ddry                                     2\n",
       "Short Hail Shower                        2\n",
       "Wetr First Then Dry                      2\n",
       "Wet/ Snowing                             2\n",
       "Hail Shower                              2\n",
       "Rain & Thunder                           2\n",
       "Snow!                                    2\n",
       "Showers Mix                              2\n",
       "V.light Drizzle                          2\n",
       "Windy/cloudy                             2\n",
       "Cloud/rain                               2\n",
       "Wey                                      2\n",
       "Drizzle Damp                             2\n",
       "Dry With Wet Road                        2\n",
       "Wed                                      2\n",
       "Wet And Very Windy                       2\n",
       "Wet/drizzle                              2\n",
       "Shower/wet                               2\n",
       "Hailstones                               2\n",
       "Dry/mild                                 2\n",
       "Sunsetting + Windy                       2\n",
       "Too Cold                                 2\n",
       "Showers/hailstone                        2\n",
       "Drizze                                   2\n",
       "Kdry                                     2\n",
       "School Out                               2\n",
       "Drizzle Rain                             2\n",
       "Slight Drizzle/dry                       2\n",
       "Dr Ry                                    2\n",
       "Mixed                                    2\n",
       "Stopped Raining                          2\n",
       "Rain Heavy                               2\n",
       "Mixed Sunny + Rain                       2\n",
       "Drizzle/dry                              2\n",
       "Wet/mix                                  2\n",
       "Heavy Thunder                            2\n",
       "Shower/dry                               2\n",
       "Very Hot Dry                             2\n",
       "Dry Chill                                2\n",
       "Fine Windy                               2\n",
       "Druy                                     2\n",
       "Cold/cloudy                              2\n",
       "Mist                                     2\n",
       "Drty                                     2\n",
       "Cloudy/rain/sunny                        2\n",
       "Fine (windy)                             2\n",
       "Road Drying Sun Out                      2\n",
       "Dry 3/4 Dry                              2\n",
       "Rain Dry                                 2\n",
       "Rains                                    2\n",
       "Cloudy + Rain                            2\n",
       "Partly Sunny                             2\n",
       "Dry                         9            2\n",
       "Name: Weather, dtype: int64"
      ]
     },
     "execution_count": 33,
     "metadata": {},
     "output_type": "execute_result"
    }
   ],
   "source": [
    "# Values for 'Weather'\n",
    "london_clean['Weather'].value_counts()"
   ]
  },
  {
   "cell_type": "code",
   "execution_count": 34,
   "id": "ee5e5810",
   "metadata": {},
   "outputs": [],
   "source": [
    "# Export 'Weather' values to csv\n",
    "weather = london_clean['Weather'].value_counts()\n",
    "\n",
    "weather.to_csv('C:/Users/mhbil/OneDrive/Desktop/LSE Employer Project/weather.csv')"
   ]
  },
  {
   "cell_type": "code",
   "execution_count": 35,
   "id": "a411a1d6",
   "metadata": {},
   "outputs": [
    {
     "data": {
      "text/plain": [
       "Inter-peak (10:00-16:00)       621642\n",
       "AM peak (07:00-10:00)          310824\n",
       "PM peak (16:00-19:00)          310781\n",
       "Evening (19:00-22:00)          310738\n",
       "Early Morning (06:00-07:00)    103608\n",
       "Name: Period, dtype: int64"
      ]
     },
     "execution_count": 35,
     "metadata": {},
     "output_type": "execute_result"
    }
   ],
   "source": [
    "# Values for 'Period'\n",
    "london_clean['Period'].value_counts()"
   ]
  },
  {
   "cell_type": "code",
   "execution_count": 36,
   "id": "6c88499a",
   "metadata": {},
   "outputs": [
    {
     "data": {
      "text/plain": [
       "Summer    609423\n",
       "Spring    568120\n",
       "0         395927\n",
       "Autumn    285992\n",
       "Winter    179732\n",
       "Name: Season, dtype: int64"
      ]
     },
     "execution_count": 36,
     "metadata": {},
     "output_type": "execute_result"
    }
   ],
   "source": [
    "# Values for 'Season'\n",
    "london_clean['Season'].value_counts()"
   ]
  },
  {
   "cell_type": "markdown",
   "id": "404eb4ae",
   "metadata": {},
   "source": [
    "## Exploratory Data Analysis"
   ]
  },
  {
   "cell_type": "code",
   "execution_count": 37,
   "id": "f2f6a4dc",
   "metadata": {},
   "outputs": [],
   "source": [
    "# Subset Season to exclude values of 0\n",
    "london_clean_season = london_clean[london_clean['Season'] != '0']"
   ]
  },
  {
   "cell_type": "code",
   "execution_count": 38,
   "id": "f0a373d7",
   "metadata": {},
   "outputs": [
    {
     "data": {
      "text/plain": [
       "<AxesSubplot:xlabel='Season', ylabel='Total cycles'>"
      ]
     },
     "execution_count": 38,
     "metadata": {},
     "output_type": "execute_result"
    },
    {
     "data": {
      "image/png": "[encoded data removed]",
      "text/plain": [
       "<Figure size 432x288 with 1 Axes>"
      ]
     },
     "metadata": {
      "needs_background": "light"
     },
     "output_type": "display_data"
    }
   ],
   "source": [
    "# Examine relationship between number of cycles and season - barplot\n",
    "sns.barplot(x='Season', y='Total cycles', data = london_clean_season)"
   ]
  },
  {
   "cell_type": "code",
   "execution_count": 39,
   "id": "bd0c0b0a",
   "metadata": {},
   "outputs": [
    {
     "data": {
      "image/png": "[encoded data removed]",
      "text/plain": [
       "<Figure size 432x288 with 1 Axes>"
      ]
     },
     "metadata": {
      "needs_background": "light"
     },
     "output_type": "display_data"
    }
   ],
   "source": [
    "# Examine relationship between number of cycles and season - boxplot\n",
    "sns.boxplot(x='Season', y='Total cycles', data=london_clean_season)\n",
    "plt.ylim(0, 50)\n",
    "sns.set(rc = {'figure.figsize':(15,15)})"
   ]
  },
  {
   "cell_type": "code",
   "execution_count": 40,
   "id": "c3a5d2ef",
   "metadata": {},
   "outputs": [
    {
     "data": {
      "text/plain": [
       "<AxesSubplot:xlabel='Month', ylabel='Total cycles'>"
      ]
     },
     "execution_count": 40,
     "metadata": {},
     "output_type": "execute_result"
    },
    {
     "data": {
      "image/png": "[encoded data removed]",
      "text/plain": [
       "<Figure size 1080x1080 with 1 Axes>"
      ]
     },
     "metadata": {},
     "output_type": "display_data"
    }
   ],
   "source": [
    "# Examine relationship between number of cycles and month - barplot\n",
    "sns.barplot(x='Month', y='Total cycles', data= london_clean)"
   ]
  },
  {
   "cell_type": "code",
   "execution_count": 41,
   "id": "0367c3d0",
   "metadata": {},
   "outputs": [
    {
     "data": {
      "text/plain": [
       "19.0    240432\n",
       "18.0    239060\n",
       "17.0    235052\n",
       "16.0    235008\n",
       "15.0    234292\n",
       "14.0    102540\n",
       "Name: Year, dtype: int64"
      ]
     },
     "execution_count": 41,
     "metadata": {},
     "output_type": "execute_result"
    }
   ],
   "source": [
    "# Subset data to exclude 2020\n",
    "london_clean_prepandemic = london_clean[london_clean['Year'] < 20]\n",
    "london_clean_prepandemic['Year'].value_counts()"
   ]
  },
  {
   "cell_type": "code",
   "execution_count": 42,
   "id": "e22acc88",
   "metadata": {},
   "outputs": [
    {
     "data": {
      "text/plain": [
       "<AxesSubplot:xlabel='Month', ylabel='Total cycles'>"
      ]
     },
     "execution_count": 42,
     "metadata": {},
     "output_type": "execute_result"
    },
    {
     "data": {
      "image/png": "[encoded data removed]",
      "text/plain": [
       "<Figure size 1080x1080 with 1 Axes>"
      ]
     },
     "metadata": {},
     "output_type": "display_data"
    }
   ],
   "source": [
    "# Examine relatinship between number of cycles and months with 2020 and 2021 excluded - barplot\n",
    "sns.barplot(x='Month', y='Total cycles', data= london_clean_prepandemic)"
   ]
  },
  {
   "cell_type": "code",
   "execution_count": 43,
   "id": "aa1f17c9",
   "metadata": {
    "scrolled": true
   },
   "outputs": [
    {
     "data": {
      "text/plain": [
       "<AxesSubplot:xlabel='Period', ylabel='Total cycles'>"
      ]
     },
     "execution_count": 43,
     "metadata": {},
     "output_type": "execute_result"
    },
    {
     "data": {
      "image/png": "[encoded data removed]",
      "text/plain": [
       "<Figure size 1080x1080 with 1 Axes>"
      ]
     },
     "metadata": {},
     "output_type": "display_data"
    }
   ],
   "source": [
    "# Examine relationship between number of cycles and time of day - barplot\n",
    "sns.barplot(x=\"Period\", y=\"Total cycles\", data=london_clean)"
   ]
  },
  {
   "cell_type": "code",
   "execution_count": 44,
   "id": "9e8ffb30",
   "metadata": {},
   "outputs": [
    {
     "data": {
      "image/png": "[encoded data removed]",
      "text/plain": [
       "<Figure size 1080x1080 with 1 Axes>"
      ]
     },
     "metadata": {},
     "output_type": "display_data"
    }
   ],
   "source": [
    "# Examine relationship between number of cycles and time of day\n",
    "sns.boxplot(x='Period', y='Total cycles', data=london_clean)\n",
    "plt.ylim(0,50)\n",
    "sns.set(rc = {'figure.figsize':(15,15)})"
   ]
  },
  {
   "cell_type": "code",
   "execution_count": 45,
   "id": "4288b8fc",
   "metadata": {},
   "outputs": [],
   "source": [
    "# Subset data based on top weather conditions\n",
    "london_clean_topweather = london_clean[london_clean['Weather'].isin(['Dry', 'Wet', 'Fine', 'Sunny', 'Cloudy', 'Rain'])]"
   ]
  },
  {
   "cell_type": "code",
   "execution_count": 46,
   "id": "f8956192",
   "metadata": {},
   "outputs": [
    {
     "data": {
      "text/plain": [
       "<AxesSubplot:xlabel='Weather', ylabel='Total cycles'>"
      ]
     },
     "execution_count": 46,
     "metadata": {},
     "output_type": "execute_result"
    },
    {
     "data": {
      "image/png": "[encoded data removed]",
      "text/plain": [
       "<Figure size 1080x1080 with 1 Axes>"
      ]
     },
     "metadata": {},
     "output_type": "display_data"
    }
   ],
   "source": [
    "# Examine relationship between total cycles and top weather conditions\n",
    "sns.barplot(x='Weather', y='Total cycles', data=london_clean_topweather)"
   ]
  },
  {
   "cell_type": "code",
   "execution_count": 52,
   "id": "8cf0136a",
   "metadata": {},
   "outputs": [
    {
     "data": {
      "text/plain": [
       "<AxesSubplot:xlabel='Month', ylabel='Total cycles'>"
      ]
     },
     "execution_count": 52,
     "metadata": {},
     "output_type": "execute_result"
    },
    {
     "data": {
      "image/png": "[encoded data removed]",
      "text/plain": [
       "<Figure size 1080x1080 with 1 Axes>"
      ]
     },
     "metadata": {},
     "output_type": "display_data"
    }
   ],
   "source": [
    "# Examine relationship between top weather conditions and month\n",
    "sns.barplot(x='Month', y='Total cycles', hue='Weather', data=london_clean_topweather)"
   ]
  },
  {
   "cell_type": "code",
   "execution_count": null,
   "id": "c46f651a",
   "metadata": {},
   "outputs": [],
   "source": []
  }
 ],
 "metadata": {
  "kernelspec": {
   "display_name": "Python 3 (ipykernel)",
   "language": "python",
   "name": "python3"
  },
  "language_info": {
   "codemirror_mode": {
    "name": "ipython",
    "version": 3
   },
   "file_extension": ".py",
   "mimetype": "text/x-python",
   "name": "python",
   "nbconvert_exporter": "python",
   "pygments_lexer": "ipython3",
   "version": "3.9.7"
  }
 },
 "nbformat": 4,
 "nbformat_minor": 5
}
